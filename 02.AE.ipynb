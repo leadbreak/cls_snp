{
 "cells": [
  {
   "cell_type": "code",
   "execution_count": 1,
   "id": "8da5a778-128c-4d84-ae25-586932bf9842",
   "metadata": {},
   "outputs": [],
   "source": [
    "import warnings\n",
    "warnings.filterwarnings(action='ignore')\n",
    "\n",
    "import os\n",
    "import gc\n",
    "import math\n",
    "import random\n",
    "import pickle\n",
    "import pandas as pd\n",
    "import numpy as np\n",
    "import multiprocessing\n",
    "from tqdm.auto import tqdm\n",
    "\n",
    "from sklearn.metrics import f1_score\n",
    "from sklearn.model_selection import train_test_split, StratifiedKFold\n",
    "from sklearn.preprocessing import StandardScaler\n",
    "\n",
    "from transformers import get_cosine_schedule_with_warmup\n",
    "\n",
    "import torch\n",
    "import torch.nn as nn\n",
    "from torch.utils.data import Dataset, DataLoader, TensorDataset, sampler"
   ]
  },
  {
   "cell_type": "code",
   "execution_count": 2,
   "id": "de763fbb-6ace-45cd-935f-30dd6b0a54fb",
   "metadata": {},
   "outputs": [
    {
     "data": {
      "text/plain": [
       "device(type='cuda')"
      ]
     },
     "execution_count": 2,
     "metadata": {},
     "output_type": "execute_result"
    }
   ],
   "source": [
    "device = torch.device('cuda') if torch.cuda.is_available() else torch.device('cpu')\n",
    "device"
   ]
  },
  {
   "cell_type": "code",
   "execution_count": 3,
   "id": "474b1ef8-50a2-4228-8b09-58a9468f4d33",
   "metadata": {},
   "outputs": [],
   "source": [
    "random_seed = 41\n",
    "\n",
    "def seed_everything(seed):\n",
    "    random.seed(seed)\n",
    "    np.random.seed(seed) \n",
    "    torch.manual_seed(seed)\n",
    "    torch.cuda.manual_seed_all(seed)\n",
    "    torch.backends.cudnn.benchmark = False\n",
    "    torch.backends.cudnn.deterministic = True\n",
    "    os.environ[\"PYTHONHASHSEED\"] = str(seed)\n",
    "    \n",
    "def seed_worker(worker_id):\n",
    "    worker_seed = torch.initial_seed() % 2**32\n",
    "    np.random.seed(worker_seed)\n",
    "    random.seed(worker_seed)\n",
    "\n",
    "seed_everything(seed=random_seed) # Seed 고정"
   ]
  },
  {
   "cell_type": "code",
   "execution_count": 4,
   "id": "0b6cb23f-c9fe-4a1e-8410-3fdc2b59646e",
   "metadata": {},
   "outputs": [
    {
     "data": {
      "text/plain": [
       "((262, 48), (175, 47))"
      ]
     },
     "execution_count": 4,
     "metadata": {},
     "output_type": "execute_result"
    }
   ],
   "source": [
    "train = pd.read_csv(\"./data/df_train.csv\")\n",
    "test = pd.read_csv(\"./data/df_test.csv\")\n",
    "train.shape, test.shape"
   ]
  },
  {
   "cell_type": "code",
   "execution_count": 5,
   "id": "fb5d0a7f-9cee-4772-943b-142965934278",
   "metadata": {},
   "outputs": [
    {
     "data": {
      "text/plain": [
       "tensor([1, 2, 1, 0, 2, 1, 1, 1, 1, 2, 1, 1, 2, 2, 1, 0, 0, 0, 0, 2, 1, 1, 0, 1,\n",
       "        2, 1, 1, 1, 1, 0, 1, 0, 1, 1, 0, 2, 1, 0, 1, 1, 1, 1, 1, 0, 2, 1, 1, 0,\n",
       "        2, 0, 0, 2, 0, 2, 1, 1, 0, 0, 2, 2, 1, 0, 2, 2, 0, 2, 2, 0, 1, 2, 2, 2,\n",
       "        0, 1, 1, 1, 2, 1, 2, 0, 1, 1, 2, 0, 2, 0, 2, 2, 2, 1, 1, 1, 2, 2, 1, 1,\n",
       "        2, 0, 0, 1, 0, 1, 0, 1, 0, 1, 0, 1, 1, 2, 1, 1, 1, 1, 1, 1, 1, 0, 2, 2,\n",
       "        1, 1, 2, 0, 0, 1, 1, 0, 2, 2, 2, 0, 1, 2, 0, 1, 2, 0, 2, 1, 1, 2, 2, 1,\n",
       "        1, 1, 2, 2, 0, 1, 0, 2, 2, 2, 1, 0, 1, 1, 1, 1, 1, 0, 1, 2, 1, 1, 1, 0,\n",
       "        0, 2, 2, 0, 0, 2, 2, 2, 2, 0, 2, 0, 0, 2, 0, 2, 2, 1, 1, 2, 1, 2, 2, 1,\n",
       "        1, 1, 0, 1, 1, 2, 1, 2, 0, 1, 0, 1, 0, 2, 2, 1, 2, 1, 2, 1, 0, 0, 1, 2,\n",
       "        0, 0, 2, 1, 0, 1, 1, 1, 0, 1, 1, 1, 1, 0, 2, 2, 1, 2, 1, 2, 1, 0, 2, 0,\n",
       "        0, 2, 2, 1, 1, 1, 0, 1, 0, 1, 0, 2, 1, 0, 1, 1, 1, 1, 2, 0, 0, 1])"
      ]
     },
     "execution_count": 5,
     "metadata": {},
     "output_type": "execute_result"
    }
   ],
   "source": [
    "y = torch.LongTensor(train['class'].values)\n",
    "X = train.drop(['id', 'class'], axis=1).to_numpy()\n",
    "X_test = test.drop(['id'], axis=1).to_numpy()\n",
    "y"
   ]
  },
  {
   "cell_type": "code",
   "execution_count": 6,
   "id": "a7ec9a90-06c6-4e35-9e42-93ea2613630e",
   "metadata": {},
   "outputs": [],
   "source": [
    "y2 = nn.functional.one_hot(y, num_classes=3).to(device).long()"
   ]
  },
  {
   "cell_type": "code",
   "execution_count": 7,
   "id": "14ba246f-2991-4c64-a5d8-474a63ab40d1",
   "metadata": {},
   "outputs": [
    {
     "data": {
      "text/plain": [
       "(437, 46)"
      ]
     },
     "execution_count": 7,
     "metadata": {},
     "output_type": "execute_result"
    }
   ],
   "source": [
    "total = np.concatenate([X, X_test], axis=0)\n",
    "total.shape"
   ]
  },
  {
   "cell_type": "code",
   "execution_count": 8,
   "id": "ca0db974-ebf3-4762-9b46-9fac884fc76a",
   "metadata": {},
   "outputs": [
    {
     "data": {
      "text/plain": [
       "(437, 46)"
      ]
     },
     "execution_count": 8,
     "metadata": {},
     "output_type": "execute_result"
    }
   ],
   "source": [
    "scaler = StandardScaler()\n",
    "total = scaler.fit_transform(total)\n",
    "# total = np.expand_dims(total, axis=1)\n",
    "total.shape"
   ]
  },
  {
   "cell_type": "code",
   "execution_count": 9,
   "id": "c594bd68-9483-45cb-a1a1-0abdd53bc398",
   "metadata": {},
   "outputs": [],
   "source": [
    "class Encoder(nn.Module):\n",
    "    def __init__(self, n_features, latent_dim):\n",
    "        super().__init__()\n",
    "        \n",
    "        self.lstm0 = nn.LSTM(\n",
    "            input_size=n_features,\n",
    "            hidden_size=latent_dim**2,\n",
    "            num_layers=1,\n",
    "            batch_first=True,\n",
    "            bidirectional=False\n",
    "        )\n",
    "        self.lstm1 = nn.LSTM(\n",
    "            input_size=latent_dim**2,\n",
    "            hidden_size=latent_dim**3,\n",
    "            num_layers=1,\n",
    "            batch_first=True,\n",
    "            bidirectional=False\n",
    "        )\n",
    "\n",
    "        self.lstm2 = nn.LSTM(\n",
    "            input_size=latent_dim**3,\n",
    "            hidden_size=latent_dim*3,\n",
    "            num_layers=1,\n",
    "            batch_first=True,\n",
    "            bidirectional=False\n",
    "        )\n",
    "        \n",
    "        self.lstm3 = nn.LSTM(\n",
    "            input_size=latent_dim*3,\n",
    "            hidden_size=latent_dim,\n",
    "            num_layers=1,\n",
    "            batch_first=True,\n",
    "            bidirectional=False\n",
    "        )\n",
    "\n",
    "    def forward(self, x):\n",
    "        x1, (_, _) = self.lstm0(x)\n",
    "        x2, (_, _) = self.lstm1(x1)\n",
    "        x3, (_, _) = self.lstm2(x2)\n",
    "        x4, (h_n, _) = self.lstm3(x3)\n",
    "        \n",
    "        return h_n.permute(1, 0, 2)\n",
    "\n",
    "\n",
    "class Decoder(nn.Module):\n",
    "    def __init__(self, n_features, latent_dim):\n",
    "        super().__init__()\n",
    "        self.latent_dim = latent_dim\n",
    "        \n",
    "        self.lstm0 = nn.LSTM(\n",
    "            input_size=latent_dim,\n",
    "            hidden_size=latent_dim*3,\n",
    "            num_layers=1,\n",
    "            batch_first=True,\n",
    "            bidirectional=False\n",
    "        )\n",
    "        self.lstm1 = nn.LSTM(\n",
    "            input_size=latent_dim*3,\n",
    "            hidden_size=latent_dim**3,\n",
    "            num_layers=1,\n",
    "            batch_first=True,\n",
    "            bidirectional=False\n",
    "        )\n",
    "        \n",
    "        self.lstm2 = nn.LSTM(\n",
    "            input_size=latent_dim**3,\n",
    "            hidden_size=latent_dim**2,\n",
    "            num_layers=1,\n",
    "            batch_first=True,\n",
    "            bidirectional=False\n",
    "        )\n",
    "        \n",
    "        self.lstm3 = nn.LSTM(\n",
    "            input_size=latent_dim**2,\n",
    "            hidden_size=latent_dim*2,\n",
    "            num_layers=1,\n",
    "            batch_first=True,\n",
    "            bidirectional=False\n",
    "        )        \n",
    "        \n",
    "        \n",
    "        self.linear = nn.Linear(in_features=latent_dim*2, out_features=n_features)\n",
    "\n",
    "    def forward(self, x):\n",
    "        x = x.repeat(1, 31, 1)\n",
    "        \n",
    "        x, (_, _) = self.lstm0(x)\n",
    "        x, (_, _) = self.lstm1(x)\n",
    "        x, (_, _) = self.lstm2(x)\n",
    "        x, (_, _) = self.lstm3(x)            \n",
    "        \n",
    "        x = self.linear(x)\n",
    "\n",
    "        return x\n",
    "\n",
    "\n",
    "class AutoEncoder(nn.Module):\n",
    "    def __init__(self, n_features=46, latent_dim=6, device=None):\n",
    "        super().__init__()\n",
    "        \n",
    "        self.encoder = Encoder(n_features, latent_dim).to(device)\n",
    "        self.decoder = Decoder(n_features, latent_dim).to(device)\n",
    "\n",
    "    def forward(self, x):\n",
    "        x1 = self.encoder(x)\n",
    "        x2 = self.decoder(x1)\n",
    "        \n",
    "        return x2"
   ]
  },
  {
   "cell_type": "code",
   "execution_count": 10,
   "id": "b35cb587-3a24-45a7-a457-2f2e1b478678",
   "metadata": {},
   "outputs": [],
   "source": [
    "class Encoder(nn.Module):\n",
    "    def __init__(self, n_features, latent_dim):\n",
    "        super().__init__()\n",
    "        \n",
    "        self.lstm0 = nn.Linear(n_features, latent_dim**2)\n",
    "        self.lstm1 = nn.Linear(latent_dim**2, latent_dim*3)        \n",
    "        self.lstm2_1 = nn.Linear(latent_dim*3, 3)\n",
    "        self.lstm2_2 = nn.Linear(latent_dim*3, latent_dim-3)\n",
    "\n",
    "    def forward(self, x):\n",
    "        x1 = self.lstm0(x)\n",
    "        x2 = self.lstm1(x1)\n",
    "        x3_1 = self.lstm2_1(x2)\n",
    "        x3_2 = self.lstm2_2(x2)\n",
    "        \n",
    "        return x3_1, x3_2\n",
    "\n",
    "\n",
    "class Decoder(nn.Module):\n",
    "    def __init__(self, n_features, latent_dim):\n",
    "        super().__init__()\n",
    "        self.latent_dim = latent_dim\n",
    "        \n",
    "        self.lstm0 = nn.Linear(latent_dim, latent_dim*3)\n",
    "        self.lstm1 = nn.Linear(latent_dim*3, latent_dim**2)        \n",
    "        self.lstm2 = nn.Linear(latent_dim**2, latent_dim*2)        \n",
    "        \n",
    "        \n",
    "        self.linear = nn.Linear(in_features=latent_dim*2, out_features=n_features)\n",
    "\n",
    "    def forward(self, x):        \n",
    "        x = self.lstm0(x)\n",
    "        x = self.lstm1(x)\n",
    "        x = self.lstm2(x)\n",
    "        \n",
    "        x = self.linear(x)\n",
    "\n",
    "        return x\n",
    "\n",
    "\n",
    "class AutoEncoder(nn.Module):\n",
    "    def __init__(self, n_features=46, latent_dim=12, device=None):\n",
    "        super().__init__()\n",
    "        \n",
    "        self.encoder = Encoder(n_features, latent_dim).to(device)\n",
    "        self.decoder = Decoder(n_features, latent_dim).to(device)\n",
    "\n",
    "    def forward(self, x):\n",
    "        x1_1, x1_2 = self.encoder(x)\n",
    "        x1 = torch.concat([x1_1, x1_2], axis=1)\n",
    "        x2 = self.decoder(x1)\n",
    "        \n",
    "        return x1_1, x2"
   ]
  },
  {
   "cell_type": "code",
   "execution_count": 11,
   "id": "8b9279d5-2548-4a1a-bb96-8ad6375fb209",
   "metadata": {},
   "outputs": [],
   "source": [
    "CFG = {\n",
    "    'EPOCHS':30,\n",
    "    'LEARNING_RATE':0.001,\n",
    "    'BATCH_SIZE':437,\n",
    "}"
   ]
  },
  {
   "cell_type": "code",
   "execution_count": 12,
   "id": "29399ab4-cf33-46ab-8632-80908f9bf5d3",
   "metadata": {},
   "outputs": [],
   "source": [
    "def validation(model, criterion, test_loader, device):\n",
    "    model.eval()\n",
    "    \n",
    "    model_preds = []\n",
    "    true_labels = []\n",
    "    \n",
    "    val_loss = []\n",
    "\n",
    "    with torch.no_grad():\n",
    "        for x, label in iter(test_loader):\n",
    "            x, label = x.to(device), label.to(device)\n",
    "\n",
    "            model_pred = model(x)\n",
    "\n",
    "            loss = criterion(model_pred, label)\n",
    "\n",
    "            val_loss.append(loss.item())\n",
    "\n",
    "    return np.mean(val_loss)"
   ]
  },
  {
   "cell_type": "code",
   "execution_count": 13,
   "id": "6e51394c-d83c-46ba-b032-b84a454a15b3",
   "metadata": {
    "scrolled": true,
    "tags": []
   },
   "outputs": [
    {
     "name": "stdout",
     "output_type": "stream",
     "text": [
      "Epoch [1], Loss1 : 1.224556, Loss2 : 1.017315, Train Loss : [2.24187]\n",
      "Epoch [2], Loss1 : 1.232138, Loss2 : 1.017315, Train Loss : [2.24945]\n",
      "Epoch [3], Loss1 : 1.229296, Loss2 : 1.016840, Train Loss : [2.24614]\n",
      "Epoch [4], Loss1 : 1.227305, Loss2 : 1.015908, Train Loss : [2.24321]\n",
      "Epoch [5], Loss1 : 1.229455, Loss2 : 1.014587, Train Loss : [2.24404]\n",
      "Epoch [6], Loss1 : 1.224903, Loss2 : 1.012890, Train Loss : [2.23779]\n",
      "Epoch [7], Loss1 : 1.227379, Loss2 : 1.010896, Train Loss : [2.23828]\n",
      "Epoch [8], Loss1 : 1.224916, Loss2 : 1.008608, Train Loss : [2.23352]\n",
      "Epoch [9], Loss1 : 1.222606, Loss2 : 1.006042, Train Loss : [2.22865]\n",
      "Epoch [10], Loss1 : 1.219809, Loss2 : 1.003129, Train Loss : [2.22294]\n",
      "Epoch [11], Loss1 : 1.226105, Loss2 : 0.999765, Train Loss : [2.22587]\n",
      "Epoch [12], Loss1 : 1.224986, Loss2 : 0.995720, Train Loss : [2.22071]\n",
      "Epoch [13], Loss1 : 1.220516, Loss2 : 0.990626, Train Loss : [2.21114]\n",
      "Epoch [14], Loss1 : 1.221018, Loss2 : 0.983960, Train Loss : [2.20498]\n",
      "Epoch [15], Loss1 : 1.216893, Loss2 : 0.975186, Train Loss : [2.19208]\n",
      "Epoch [16], Loss1 : 1.224320, Loss2 : 0.963407, Train Loss : [2.18773]\n",
      "Epoch [17], Loss1 : 1.217106, Loss2 : 0.947662, Train Loss : [2.16477]\n",
      "Epoch [18], Loss1 : 1.215761, Loss2 : 0.928721, Train Loss : [2.14448]\n",
      "Epoch [19], Loss1 : 1.207635, Loss2 : 0.907136, Train Loss : [2.11477]\n",
      "Epoch [20], Loss1 : 1.208970, Loss2 : 0.884279, Train Loss : [2.09325]\n",
      "Epoch [21], Loss1 : 1.215103, Loss2 : 0.862217, Train Loss : [2.07732]\n",
      "Epoch [22], Loss1 : 1.217307, Loss2 : 0.843111, Train Loss : [2.06042]\n",
      "Epoch [23], Loss1 : 1.202325, Loss2 : 0.828640, Train Loss : [2.03096]\n",
      "Epoch [24], Loss1 : 1.202390, Loss2 : 0.819159, Train Loss : [2.02155]\n",
      "Epoch [25], Loss1 : 1.201316, Loss2 : 0.813683, Train Loss : [2.01500]\n",
      "Epoch [26], Loss1 : 1.193909, Loss2 : 0.810485, Train Loss : [2.00439]\n",
      "Epoch [27], Loss1 : 1.213822, Loss2 : 0.808296, Train Loss : [2.02212]\n",
      "Epoch [28], Loss1 : 1.198738, Loss2 : 0.806607, Train Loss : [2.00534]\n",
      "Epoch [29], Loss1 : 1.201846, Loss2 : 0.805445, Train Loss : [2.00729]\n",
      "Epoch [30], Loss1 : 1.211952, Loss2 : 0.804831, Train Loss : [2.01678]\n"
     ]
    }
   ],
   "source": [
    "# DataLoader 정의\n",
    "train_dataset = TensorDataset(torch.from_numpy(total).type(torch.float), torch.from_numpy(total).type(torch.float))\n",
    "train_loader = DataLoader(train_dataset, batch_size=CFG['BATCH_SIZE'], shuffle=True, num_workers=2, worker_init_fn=seed_worker)\n",
    "\n",
    "# 학습 모델 설정\n",
    "model = AutoEncoder().to(device)\n",
    "\n",
    "criterion1 = nn.CrossEntropyLoss().to(device)\n",
    "criterion2 = nn.MSELoss().to(device)\n",
    "optimizer = torch.optim.Adam(model.parameters(), lr=CFG['LEARNING_RATE'])  # Adam\n",
    "scheduler = get_cosine_schedule_with_warmup(\n",
    "    optimizer=optimizer,\n",
    "    num_warmup_steps=len(train_loader) * int(CFG['EPOCHS']*0.5),\n",
    "    num_training_steps=len(train_loader) * CFG['EPOCHS']\n",
    ")\n",
    "\n",
    "\n",
    "best_score = 100\n",
    "\n",
    "# train\n",
    "torch.backends.cudnn.benchmark = True\n",
    "for epoch in range(1,CFG['EPOCHS']+1):\n",
    "    model.train()\n",
    "    train_loss = []\n",
    "    for x, label in iter(train_loader):            \n",
    "        x, label = x.to(device), label.to(device)\n",
    "\n",
    "        optimizer.zero_grad()\n",
    "\n",
    "        pred_label, pred_vector = model(x)\n",
    "        target = pred_label[:len(y2), :3] # 앞의 세 개를 label로 유도\n",
    "        target2 = torch.softmax(target, axis=1)    \n",
    "\n",
    "        loss1 = criterion1(y2.float(), target2)\n",
    "        loss2 = criterion2(label, pred_vector)\n",
    "        \n",
    "        loss = loss1 + loss2\n",
    "        loss.backward()\n",
    "        optimizer.step()\n",
    "        scheduler.step()\n",
    "\n",
    "        train_loss.append(loss.item())\n",
    "\n",
    "    tr_loss = np.mean(train_loss)\n",
    "\n",
    "    print(f'Epoch [{epoch}], Loss1 : {loss1:.6f}, Loss2 : {loss2:.6f}, Train Loss : [{tr_loss:.5f}]')\n",
    "    # print(f'Epoch [{epoch}], Train Loss : [{tr_loss:.5f}]')\n",
    "\n",
    "    if best_score > tr_loss:\n",
    "        torch.save(model.state_dict(), f'./models/AutoEncoder_total.pt')\n",
    "        best_score = tr_loss"
   ]
  }
 ],
 "metadata": {
  "kernelspec": {
   "display_name": "Python 3 (ipykernel)",
   "language": "python",
   "name": "python3"
  },
  "language_info": {
   "codemirror_mode": {
    "name": "ipython",
    "version": 3
   },
   "file_extension": ".py",
   "mimetype": "text/x-python",
   "name": "python",
   "nbconvert_exporter": "python",
   "pygments_lexer": "ipython3",
   "version": "3.8.10"
  }
 },
 "nbformat": 4,
 "nbformat_minor": 5
}
