{
 "cells": [
  {
   "cell_type": "code",
   "execution_count": 1,
   "id": "955b5246-fe99-4bf1-8be6-087f92605db5",
   "metadata": {},
   "outputs": [],
   "source": [
    "import warnings\n",
    "warnings.filterwarnings(action='ignore')\n",
    "\n",
    "import os\n",
    "import gc\n",
    "import math\n",
    "import random\n",
    "import pickle\n",
    "import pandas as pd\n",
    "import numpy as np\n",
    "import multiprocessing\n",
    "from tqdm.auto import tqdm\n",
    "\n",
    "from sklearn.metrics import f1_score\n",
    "from sklearn.model_selection import train_test_split, StratifiedKFold\n",
    "from sklearn.preprocessing import StandardScaler\n",
    "\n",
    "from transformers import get_cosine_schedule_with_warmup\n",
    "\n",
    "import torch\n",
    "import torch.nn as nn\n",
    "from torch.utils.data import Dataset, DataLoader, TensorDataset, sampler\n",
    "\n",
    "from imblearn.over_sampling import SMOTE"
   ]
  },
  {
   "cell_type": "code",
   "execution_count": 2,
   "id": "0d8d0b92-22ab-45fd-91a1-09c4f9a362ac",
   "metadata": {},
   "outputs": [
    {
     "data": {
      "text/plain": [
       "device(type='cuda', index=1)"
      ]
     },
     "execution_count": 2,
     "metadata": {},
     "output_type": "execute_result"
    }
   ],
   "source": [
    "device = torch.device('cuda:1') if torch.cuda.is_available() else torch.device('cpu')\n",
    "device"
   ]
  },
  {
   "cell_type": "code",
   "execution_count": 3,
   "id": "e890b06b-edd9-4ec6-bd7e-e0791cec6271",
   "metadata": {},
   "outputs": [],
   "source": [
    "train = pd.read_csv('./data/df_train00.csv')\n",
    "test = pd.read_csv('./data/df_test00.csv')              "
   ]
  },
  {
   "cell_type": "code",
   "execution_count": 4,
   "id": "d4a24174-5bf6-450c-8b16-3ce4066ec1f0",
   "metadata": {},
   "outputs": [],
   "source": [
    "import warnings\n",
    "warnings.filterwarnings(action='ignore')\n",
    "\n",
    "import os\n",
    "import gc\n",
    "import math\n",
    "import random\n",
    "import pickle\n",
    "import pandas as pd\n",
    "import numpy as np\n",
    "from tqdm.auto import tqdm\n",
    "\n",
    "from sklearn.metrics import f1_score\n",
    "from sklearn.model_selection import train_test_split, StratifiedKFold\n",
    "\n",
    "from xgboost import XGBClassifier, XGBRegressor\n",
    "from catboost import CatBoostClassifier, CatBoostRegressor\n",
    "from imblearn.over_sampling import SMOTE, SMOTENC"
   ]
  },
  {
   "cell_type": "code",
   "execution_count": 5,
   "id": "b67ca8ce-3efe-4b82-be4a-6100363623a3",
   "metadata": {},
   "outputs": [],
   "source": [
    "xgb_params = {\n",
    "    'booster': 'gbtree',\n",
    "    'grow_policy': 'lossguide',\n",
    "    'max_depth': 0,\n",
    "    'learning_rate': 0.4,\n",
    "    # 'n_estimators': 25,\n",
    "    'reg_lambda': 100,\n",
    "    'reg_alpha' : 10,\n",
    "    'subsample': 0.9,\n",
    "    'num_parallel_tree': 1,\n",
    "    # 'colsample_bytree' : 0.9,\n",
    "    'colsample_bynode' : 0.9\n",
    "    # 'rate_drop': 0.3\n",
    "}"
   ]
  },
  {
   "cell_type": "code",
   "execution_count": 6,
   "id": "81715b0c-cfe3-4968-9b77-70f3fb71a1dc",
   "metadata": {},
   "outputs": [],
   "source": [
    "random_seed = 6327\n",
    "strategy = {0:300, 1:300}"
   ]
  },
  {
   "cell_type": "code",
   "execution_count": 7,
   "id": "798ff272-f802-4134-84ea-a28fcb6a3991",
   "metadata": {},
   "outputs": [
    {
     "data": {
      "text/plain": [
       "1    114\n",
       "2     79\n",
       "0     69\n",
       "Name: class, dtype: int64"
      ]
     },
     "execution_count": 7,
     "metadata": {},
     "output_type": "execute_result"
    }
   ],
   "source": [
    "train['class'].value_counts()"
   ]
  },
  {
   "cell_type": "code",
   "execution_count": 8,
   "id": "32dd264c-36de-4647-a385-ab2863472d4f",
   "metadata": {},
   "outputs": [
    {
     "data": {
      "text/plain": [
       "0    114\n",
       "1     79\n",
       "Name: class, dtype: int64"
      ]
     },
     "execution_count": 8,
     "metadata": {},
     "output_type": "execute_result"
    }
   ],
   "source": [
    "ae = pd.read_csv(\"./data/ae_values.csv\")\n",
    "target_idx = train[train['class'] != 0].index.tolist()\n",
    "train2 = train.iloc[target_idx].copy().reset_index(drop=True)\n",
    "train2['class'] = train2['class'] -1\n",
    "\n",
    "train2 = pd.concat([train2, ae[:len(train2)]], axis=1)\n",
    "test2 = pd.concat([test, ae[len(train2):].reset_index(drop=True)], axis=1)\n",
    "train2['class'].value_counts()"
   ]
  },
  {
   "cell_type": "code",
   "execution_count": 29,
   "id": "c09fc719-fea9-4294-bad5-bac044cb6c52",
   "metadata": {},
   "outputs": [
    {
     "name": "stdout",
     "output_type": "stream",
     "text": [
      "<class 'pandas.core.frame.DataFrame'>\n",
      "RangeIndex: 600 entries, 0 to 599\n",
      "Data columns (total 40 columns):\n",
      " #   Column        Non-Null Count  Dtype   \n",
      "---  ------        --------------  -----   \n",
      " 0   trait         600 non-null    category\n",
      " 1   SNP_01        600 non-null    category\n",
      " 2   SNP_02        600 non-null    category\n",
      " 3   SNP_03        600 non-null    category\n",
      " 4   SNP_04        600 non-null    category\n",
      " 5   SNP_05        600 non-null    category\n",
      " 6   SNP_06        600 non-null    category\n",
      " 7   SNP_07        600 non-null    category\n",
      " 8   SNP_08        600 non-null    category\n",
      " 9   SNP_09        600 non-null    category\n",
      " 10  SNP_10        600 non-null    category\n",
      " 11  SNP_11        600 non-null    category\n",
      " 12  SNP_12        600 non-null    category\n",
      " 13  SNP_13        600 non-null    category\n",
      " 14  SNP_14        600 non-null    category\n",
      " 15  SNP_15        600 non-null    category\n",
      " 16  SNP_01_ratio  600 non-null    float64 \n",
      " 17  SNP_02_ratio  600 non-null    float64 \n",
      " 18  SNP_03_ratio  600 non-null    float64 \n",
      " 19  SNP_04_ratio  600 non-null    float64 \n",
      " 20  SNP_05_ratio  600 non-null    float64 \n",
      " 21  SNP_06_ratio  600 non-null    float64 \n",
      " 22  SNP_07_ratio  600 non-null    float64 \n",
      " 23  SNP_08_ratio  600 non-null    float64 \n",
      " 24  SNP_09_ratio  600 non-null    float64 \n",
      " 25  SNP_10_ratio  600 non-null    float64 \n",
      " 26  SNP_11_ratio  600 non-null    float64 \n",
      " 27  SNP_12_ratio  600 non-null    float64 \n",
      " 28  SNP_13_ratio  600 non-null    float64 \n",
      " 29  SNP_14_ratio  600 non-null    float64 \n",
      " 30  SNP_15_ratio  600 non-null    float64 \n",
      " 31  trait_ratio   600 non-null    float64 \n",
      " 32  encodings_0   600 non-null    float64 \n",
      " 33  encodings_1   600 non-null    float64 \n",
      " 34  encodings_2   600 non-null    float64 \n",
      " 35  encodings_3   600 non-null    float64 \n",
      " 36  encodings_4   600 non-null    float64 \n",
      " 37  encodings_5   600 non-null    float64 \n",
      " 38  encodings_6   600 non-null    float64 \n",
      " 39  errors        600 non-null    float64 \n",
      "dtypes: category(16), float64(24)\n",
      "memory usage: 124.0 KB\n"
     ]
    }
   ],
   "source": [
    "y = (train2['class'].values).astype(int)\n",
    "X = train2.drop(['id', 'class'], axis=1)\n",
    "X.iloc[:,:16] = X.iloc[:,:16].astype('category')\n",
    "X_test = test2.drop(['id', 'class'], axis=1)\n",
    "X_test.iloc[:,:16] = X_test.iloc[:,:16].astype('category')\n",
    "\n",
    "smote = SMOTENC(categorical_features=[x for x in range(16)], random_state=random_seed)\n",
    "X_train, y_train = smote.fit_resample(X, y)\n",
    "X_train.info()"
   ]
  },
  {
   "cell_type": "code",
   "execution_count": 30,
   "id": "bdd76783-f412-44a1-b6c7-92f0c2fe564f",
   "metadata": {},
   "outputs": [],
   "source": [
    "def train_on_gpu() :  \n",
    "    var_categ = X_train.columns.tolist()[:16]\n",
    "    model = CatBoostClassifier(\n",
    "        cat_features=var_categ,\n",
    "        iterations=100,\n",
    "        learning_rate=0.03,\n",
    "        task_type='GPU',\n",
    "        devices='0:5',\n",
    "        # random_state=random_seed\n",
    "        )\n",
    "  \n",
    "    model.fit(\n",
    "        X_train, y_train,\n",
    "        eval_set=(X_train, y_train),\n",
    "        verbose=10\n",
    "        );     \n",
    "\n",
    "    pred = model.predict(X)\n",
    "    score = f1_score(y, pred, average='macro')\n",
    "    print(score)\n",
    "    \n",
    "    return model"
   ]
  },
  {
   "cell_type": "code",
   "execution_count": 31,
   "id": "37185a0c-e315-49a2-9eae-55a138b915cd",
   "metadata": {},
   "outputs": [
    {
     "name": "stdout",
     "output_type": "stream",
     "text": [
      "0:\tlearn: 0.6385110\ttest: 0.6385110\tbest: 0.6385110 (0)\ttotal: 12.3ms\tremaining: 1.22s\n",
      "10:\tlearn: 0.3237788\ttest: 0.3237788\tbest: 0.3237788 (10)\ttotal: 116ms\tremaining: 942ms\n",
      "20:\tlearn: 0.1878876\ttest: 0.1878876\tbest: 0.1878876 (20)\ttotal: 222ms\tremaining: 835ms\n",
      "30:\tlearn: 0.1212826\ttest: 0.1212826\tbest: 0.1212826 (30)\ttotal: 326ms\tremaining: 725ms\n",
      "40:\tlearn: 0.0880284\ttest: 0.0880284\tbest: 0.0880284 (40)\ttotal: 434ms\tremaining: 624ms\n",
      "50:\tlearn: 0.0673039\ttest: 0.0673039\tbest: 0.0673039 (50)\ttotal: 542ms\tremaining: 521ms\n",
      "60:\tlearn: 0.0544920\ttest: 0.0544053\tbest: 0.0544053 (60)\ttotal: 650ms\tremaining: 416ms\n",
      "70:\tlearn: 0.0453372\ttest: 0.0453951\tbest: 0.0453951 (70)\ttotal: 760ms\tremaining: 311ms\n",
      "80:\tlearn: 0.0388985\ttest: 0.0390147\tbest: 0.0390147 (80)\ttotal: 877ms\tremaining: 206ms\n",
      "90:\tlearn: 0.0339114\ttest: 0.0341780\tbest: 0.0341780 (90)\ttotal: 995ms\tremaining: 98.4ms\n",
      "99:\tlearn: 0.0304334\ttest: 0.0306610\tbest: 0.0306610 (99)\ttotal: 1.1s\tremaining: 0us\n",
      "bestTest = 0.03066099803\n",
      "bestIteration = 99\n",
      "0.9946527027401435\n"
     ]
    },
    {
     "data": {
      "text/plain": [
       "<catboost.core.CatBoostClassifier at 0x7fd0e8eccf10>"
      ]
     },
     "execution_count": 31,
     "metadata": {},
     "output_type": "execute_result"
    }
   ],
   "source": [
    "model = train_on_gpu()\n",
    "model"
   ]
  },
  {
   "cell_type": "code",
   "execution_count": 15,
   "id": "6bb61920-549a-4755-af49-e05e9d03c2ab",
   "metadata": {},
   "outputs": [
    {
     "data": {
      "text/plain": [
       "array([2, 1, 2, 2, 1, 2, 2, 1, 1, 1, 2, 1, 1, 1, 1, 1, 2, 1, 1, 2, 1, 1,\n",
       "       1, 2, 1, 1, 1, 2, 1, 1, 1, 1, 1, 2, 1, 1, 2, 1, 1, 2, 1, 1, 2, 1,\n",
       "       1, 1, 1, 2, 1, 2, 2, 1, 1, 1, 1, 1, 2, 2, 1, 2, 2, 1, 2, 2, 2, 1,\n",
       "       1, 2, 2, 1, 1, 1, 2, 1, 2, 1, 2, 1, 1, 1, 2, 1, 1, 1, 1, 1, 1, 1,\n",
       "       2, 2, 1, 1, 2, 1, 1, 2, 1, 1, 1, 2, 2, 1, 1, 2, 1, 2, 2, 1, 1, 1,\n",
       "       2, 1, 1, 1, 1, 1, 2, 2, 1, 2, 1, 1, 1, 2, 2, 1, 1, 1, 2, 1, 2, 1,\n",
       "       1, 1, 1, 2, 1, 1, 1, 1, 2, 1, 2, 1, 1, 1, 1, 1, 2, 2, 1, 1, 1, 1,\n",
       "       1, 2, 1, 1, 2, 1, 1, 2, 2, 1, 1, 1, 2, 1, 1, 2, 1, 2, 2, 1, 1])"
      ]
     },
     "execution_count": 15,
     "metadata": {},
     "output_type": "execute_result"
    }
   ],
   "source": [
    "answer = model.predict(X_test) + 1 \n",
    "answer"
   ]
  },
  {
   "cell_type": "code",
   "execution_count": 16,
   "id": "d6f2c3c0-1466-4024-aa55-218b2928281c",
   "metadata": {},
   "outputs": [
    {
     "data": {
      "text/html": [
       "<div>\n",
       "<style scoped>\n",
       "    .dataframe tbody tr th:only-of-type {\n",
       "        vertical-align: middle;\n",
       "    }\n",
       "\n",
       "    .dataframe tbody tr th {\n",
       "        vertical-align: top;\n",
       "    }\n",
       "\n",
       "    .dataframe thead th {\n",
       "        text-align: right;\n",
       "    }\n",
       "</style>\n",
       "<table border=\"1\" class=\"dataframe\">\n",
       "  <thead>\n",
       "    <tr style=\"text-align: right;\">\n",
       "      <th></th>\n",
       "      <th>id</th>\n",
       "      <th>class</th>\n",
       "    </tr>\n",
       "  </thead>\n",
       "  <tbody>\n",
       "    <tr>\n",
       "      <th>0</th>\n",
       "      <td>TEST_000</td>\n",
       "      <td>A</td>\n",
       "    </tr>\n",
       "    <tr>\n",
       "      <th>1</th>\n",
       "      <td>TEST_001</td>\n",
       "      <td>B</td>\n",
       "    </tr>\n",
       "    <tr>\n",
       "      <th>2</th>\n",
       "      <td>TEST_002</td>\n",
       "      <td>C</td>\n",
       "    </tr>\n",
       "    <tr>\n",
       "      <th>3</th>\n",
       "      <td>TEST_003</td>\n",
       "      <td>C</td>\n",
       "    </tr>\n",
       "    <tr>\n",
       "      <th>4</th>\n",
       "      <td>TEST_004</td>\n",
       "      <td>A</td>\n",
       "    </tr>\n",
       "    <tr>\n",
       "      <th>...</th>\n",
       "      <td>...</td>\n",
       "      <td>...</td>\n",
       "    </tr>\n",
       "    <tr>\n",
       "      <th>170</th>\n",
       "      <td>TEST_170</td>\n",
       "      <td>B</td>\n",
       "    </tr>\n",
       "    <tr>\n",
       "      <th>171</th>\n",
       "      <td>TEST_171</td>\n",
       "      <td>C</td>\n",
       "    </tr>\n",
       "    <tr>\n",
       "      <th>172</th>\n",
       "      <td>TEST_172</td>\n",
       "      <td>C</td>\n",
       "    </tr>\n",
       "    <tr>\n",
       "      <th>173</th>\n",
       "      <td>TEST_173</td>\n",
       "      <td>B</td>\n",
       "    </tr>\n",
       "    <tr>\n",
       "      <th>174</th>\n",
       "      <td>TEST_174</td>\n",
       "      <td>B</td>\n",
       "    </tr>\n",
       "  </tbody>\n",
       "</table>\n",
       "<p>175 rows × 2 columns</p>\n",
       "</div>"
      ],
      "text/plain": [
       "           id class\n",
       "0    TEST_000     A\n",
       "1    TEST_001     B\n",
       "2    TEST_002     C\n",
       "3    TEST_003     C\n",
       "4    TEST_004     A\n",
       "..        ...   ...\n",
       "170  TEST_170     B\n",
       "171  TEST_171     C\n",
       "172  TEST_172     C\n",
       "173  TEST_173     B\n",
       "174  TEST_174     B\n",
       "\n",
       "[175 rows x 2 columns]"
      ]
     },
     "execution_count": 16,
     "metadata": {},
     "output_type": "execute_result"
    }
   ],
   "source": [
    "high_one = pd.read_csv(\"submit_0.98142.csv\")\n",
    "high_one"
   ]
  },
  {
   "cell_type": "code",
   "execution_count": 19,
   "id": "6392b317-37b8-48ae-af51-8259727071da",
   "metadata": {},
   "outputs": [
    {
     "data": {
      "text/plain": [
       "array([0, 1, 2, 2, 0, 2, 2, 1, 0, 0, 2, 1, 1, 0, 1, 1, 0, 1, 1, 2, 1, 1,\n",
       "       1, 0, 1, 1, 1, 0, 0, 1, 0, 0, 1, 2, 0, 1, 2, 1, 1, 2, 0, 1, 2, 1,\n",
       "       1, 1, 1, 2, 1, 2, 0, 1, 0, 1, 1, 1, 2, 0, 1, 2, 0, 1, 2, 2, 2, 0,\n",
       "       1, 0, 0, 1, 1, 1, 0, 0, 2, 1, 2, 1, 1, 1, 2, 1, 0, 1, 1, 1, 1, 1,\n",
       "       2, 0, 1, 1, 2, 1, 1, 2, 0, 1, 0, 2, 0, 1, 1, 2, 0, 0, 2, 1, 0, 1,\n",
       "       2, 1, 1, 1, 1, 0, 0, 2, 1, 2, 0, 1, 1, 2, 2, 1, 1, 1, 0, 1, 0, 0,\n",
       "       1, 1, 1, 2, 0, 0, 1, 0, 0, 0, 2, 1, 1, 1, 0, 1, 2, 0, 0, 1, 0, 1,\n",
       "       1, 0, 0, 1, 2, 0, 1, 2, 2, 1, 0, 0, 2, 1, 1, 0, 1, 2, 2, 1, 1])"
      ]
     },
     "execution_count": 19,
     "metadata": {},
     "output_type": "execute_result"
    }
   ],
   "source": [
    "A_index = high_one[high_one['class']=='A'].index.tolist()\n",
    "answer[A_index] = 0\n",
    "answer"
   ]
  },
  {
   "cell_type": "code",
   "execution_count": 22,
   "id": "3d876832-0454-4da7-864e-892682ffa12d",
   "metadata": {},
   "outputs": [
    {
     "data": {
      "text/html": [
       "<div>\n",
       "<style scoped>\n",
       "    .dataframe tbody tr th:only-of-type {\n",
       "        vertical-align: middle;\n",
       "    }\n",
       "\n",
       "    .dataframe tbody tr th {\n",
       "        vertical-align: top;\n",
       "    }\n",
       "\n",
       "    .dataframe thead th {\n",
       "        text-align: right;\n",
       "    }\n",
       "</style>\n",
       "<table border=\"1\" class=\"dataframe\">\n",
       "  <thead>\n",
       "    <tr style=\"text-align: right;\">\n",
       "      <th></th>\n",
       "      <th>id</th>\n",
       "      <th>class</th>\n",
       "    </tr>\n",
       "  </thead>\n",
       "  <tbody>\n",
       "    <tr>\n",
       "      <th>0</th>\n",
       "      <td>TEST_000</td>\n",
       "      <td>A</td>\n",
       "    </tr>\n",
       "    <tr>\n",
       "      <th>1</th>\n",
       "      <td>TEST_001</td>\n",
       "      <td>B</td>\n",
       "    </tr>\n",
       "    <tr>\n",
       "      <th>2</th>\n",
       "      <td>TEST_002</td>\n",
       "      <td>C</td>\n",
       "    </tr>\n",
       "    <tr>\n",
       "      <th>3</th>\n",
       "      <td>TEST_003</td>\n",
       "      <td>C</td>\n",
       "    </tr>\n",
       "    <tr>\n",
       "      <th>4</th>\n",
       "      <td>TEST_004</td>\n",
       "      <td>A</td>\n",
       "    </tr>\n",
       "    <tr>\n",
       "      <th>...</th>\n",
       "      <td>...</td>\n",
       "      <td>...</td>\n",
       "    </tr>\n",
       "    <tr>\n",
       "      <th>170</th>\n",
       "      <td>TEST_170</td>\n",
       "      <td>B</td>\n",
       "    </tr>\n",
       "    <tr>\n",
       "      <th>171</th>\n",
       "      <td>TEST_171</td>\n",
       "      <td>C</td>\n",
       "    </tr>\n",
       "    <tr>\n",
       "      <th>172</th>\n",
       "      <td>TEST_172</td>\n",
       "      <td>C</td>\n",
       "    </tr>\n",
       "    <tr>\n",
       "      <th>173</th>\n",
       "      <td>TEST_173</td>\n",
       "      <td>B</td>\n",
       "    </tr>\n",
       "    <tr>\n",
       "      <th>174</th>\n",
       "      <td>TEST_174</td>\n",
       "      <td>B</td>\n",
       "    </tr>\n",
       "  </tbody>\n",
       "</table>\n",
       "<p>175 rows × 2 columns</p>\n",
       "</div>"
      ],
      "text/plain": [
       "           id class\n",
       "0    TEST_000     A\n",
       "1    TEST_001     B\n",
       "2    TEST_002     C\n",
       "3    TEST_003     C\n",
       "4    TEST_004     A\n",
       "..        ...   ...\n",
       "170  TEST_170     B\n",
       "171  TEST_171     C\n",
       "172  TEST_172     C\n",
       "173  TEST_173     B\n",
       "174  TEST_174     B\n",
       "\n",
       "[175 rows x 2 columns]"
      ]
     },
     "execution_count": 22,
     "metadata": {},
     "output_type": "execute_result"
    }
   ],
   "source": [
    "submit = high_one.copy()\n",
    "submit['class'] = answer\n",
    "submit['class'] = submit['class'].map(lambda x : 'A' if x==0 else ('B' if x==1 else 'C'))\n",
    "submit"
   ]
  },
  {
   "cell_type": "code",
   "execution_count": 23,
   "id": "36702ce0-66c1-4059-a09e-e1d6607183d4",
   "metadata": {},
   "outputs": [
    {
     "data": {
      "text/plain": [
       "173"
      ]
     },
     "execution_count": 23,
     "metadata": {},
     "output_type": "execute_result"
    }
   ],
   "source": [
    "sum(high_one['class'] == submit['class'])"
   ]
  },
  {
   "cell_type": "code",
   "execution_count": 24,
   "id": "7e97e5b9-35c6-40c7-bc14-c16fce2d7162",
   "metadata": {},
   "outputs": [
    {
     "data": {
      "text/plain": [
       "B    84\n",
       "A    51\n",
       "C    40\n",
       "Name: class, dtype: int64"
      ]
     },
     "execution_count": 24,
     "metadata": {},
     "output_type": "execute_result"
    }
   ],
   "source": [
    "submit['class'].value_counts()"
   ]
  },
  {
   "cell_type": "code",
   "execution_count": 25,
   "id": "7d5708e0-50a8-4a0f-955f-138d797ad132",
   "metadata": {},
   "outputs": [
    {
     "data": {
      "text/plain": [
       "B    84\n",
       "A    51\n",
       "C    40\n",
       "Name: class, dtype: int64"
      ]
     },
     "execution_count": 25,
     "metadata": {},
     "output_type": "execute_result"
    }
   ],
   "source": [
    "high_one['class'].value_counts()"
   ]
  },
  {
   "cell_type": "code",
   "execution_count": 27,
   "id": "086dba16-f261-4c2c-8fdc-17fc5bb253f7",
   "metadata": {},
   "outputs": [],
   "source": [
    "submit.to_csv(\"submit.csv\", index=False)"
   ]
  }
 ],
 "metadata": {
  "kernelspec": {
   "display_name": "Python 3 (ipykernel)",
   "language": "python",
   "name": "python3"
  },
  "language_info": {
   "codemirror_mode": {
    "name": "ipython",
    "version": 3
   },
   "file_extension": ".py",
   "mimetype": "text/x-python",
   "name": "python",
   "nbconvert_exporter": "python",
   "pygments_lexer": "ipython3",
   "version": "3.8.10"
  }
 },
 "nbformat": 4,
 "nbformat_minor": 5
}
