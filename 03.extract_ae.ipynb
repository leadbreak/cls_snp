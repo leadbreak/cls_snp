{
 "cells": [
  {
   "cell_type": "code",
   "execution_count": 1,
   "id": "094661cc-0183-4b8f-a37f-c23061fb166c",
   "metadata": {},
   "outputs": [],
   "source": [
    "import warnings\n",
    "warnings.filterwarnings(action='ignore')\n",
    "\n",
    "import os\n",
    "import gc\n",
    "import math\n",
    "import random\n",
    "import pickle\n",
    "import pandas as pd\n",
    "import numpy as np\n",
    "import multiprocessing\n",
    "from tqdm.auto import tqdm\n",
    "\n",
    "from sklearn.metrics import f1_score\n",
    "from sklearn.model_selection import train_test_split, StratifiedKFold\n",
    "from sklearn.preprocessing import StandardScaler\n",
    "\n",
    "from transformers import get_cosine_schedule_with_warmup\n",
    "\n",
    "import torch\n",
    "import torch.nn as nn\n",
    "from torch.utils.data import Dataset, DataLoader, TensorDataset, sampler"
   ]
  },
  {
   "cell_type": "code",
   "execution_count": 2,
   "id": "22764442-8baf-4fc9-b9dd-95cb0f549361",
   "metadata": {},
   "outputs": [
    {
     "data": {
      "text/plain": [
       "device(type='cuda')"
      ]
     },
     "execution_count": 2,
     "metadata": {},
     "output_type": "execute_result"
    }
   ],
   "source": [
    "device = torch.device('cuda') if torch.cuda.is_available() else torch.device('cpu')\n",
    "device"
   ]
  },
  {
   "cell_type": "code",
   "execution_count": 3,
   "id": "d198c522-78f4-41af-8247-334ad95d1742",
   "metadata": {},
   "outputs": [],
   "source": [
    "random_seed = 41\n",
    "\n",
    "def seed_everything(seed):\n",
    "    random.seed(seed)\n",
    "    np.random.seed(seed) \n",
    "    torch.manual_seed(seed)\n",
    "    torch.cuda.manual_seed_all(seed)\n",
    "    torch.backends.cudnn.benchmark = False\n",
    "    torch.backends.cudnn.deterministic = True\n",
    "    os.environ[\"PYTHONHASHSEED\"] = str(seed)\n",
    "    \n",
    "def seed_worker(worker_id):\n",
    "    worker_seed = torch.initial_seed() % 2**32\n",
    "    np.random.seed(worker_seed)\n",
    "    random.seed(worker_seed)\n",
    "\n",
    "seed_everything(seed=random_seed) # Seed 고정"
   ]
  },
  {
   "cell_type": "code",
   "execution_count": 4,
   "id": "47da1a62-36e6-4d6e-980b-afaea1d29450",
   "metadata": {},
   "outputs": [
    {
     "data": {
      "text/plain": [
       "((193, 33), (175, 33))"
      ]
     },
     "execution_count": 4,
     "metadata": {},
     "output_type": "execute_result"
    }
   ],
   "source": [
    "train = pd.read_csv(\"./data/df_train6.csv\")\n",
    "test = pd.read_csv(\"./data/df_test6.csv\")\n",
    "train.shape, test.shape"
   ]
  },
  {
   "cell_type": "code",
   "execution_count": 5,
   "id": "2b154e20-cb18-4357-a9e2-a414696d4c4c",
   "metadata": {},
   "outputs": [
    {
     "data": {
      "text/plain": [
       "tensor([0, 1, 0, 1, 0, 0, 0, 0, 1, 0, 0, 1, 1, 0, 1, 0, 0, 0, 1, 0, 0, 0, 0, 0,\n",
       "        0, 0, 1, 0, 0, 0, 0, 0, 0, 1, 0, 0, 1, 1, 1, 0, 0, 1, 1, 0, 1, 1, 1, 1,\n",
       "        0, 1, 1, 1, 0, 0, 0, 1, 0, 1, 0, 0, 1, 1, 1, 1, 1, 0, 0, 0, 1, 1, 0, 0,\n",
       "        1, 0, 0, 0, 0, 0, 0, 1, 0, 0, 0, 0, 0, 0, 0, 1, 1, 0, 0, 1, 0, 0, 1, 1,\n",
       "        1, 0, 1, 0, 1, 1, 0, 0, 1, 1, 0, 0, 0, 1, 1, 0, 1, 1, 1, 0, 0, 0, 0, 0,\n",
       "        0, 0, 1, 0, 0, 0, 1, 1, 1, 1, 1, 1, 1, 1, 1, 1, 0, 0, 1, 0, 1, 1, 0, 0,\n",
       "        0, 0, 0, 1, 0, 1, 0, 0, 1, 1, 0, 1, 0, 1, 0, 0, 1, 1, 0, 0, 0, 0, 0, 0,\n",
       "        0, 0, 1, 1, 0, 1, 0, 1, 0, 1, 1, 1, 0, 0, 0, 0, 0, 1, 0, 0, 0, 0, 0, 1,\n",
       "        0])"
      ]
     },
     "execution_count": 5,
     "metadata": {},
     "output_type": "execute_result"
    }
   ],
   "source": [
    "y = torch.LongTensor(train['class'].values)\n",
    "X = train.drop(['id', 'class'], axis=1).to_numpy()\n",
    "X_test = test.drop(['id','class'], axis=1).to_numpy()\n",
    "y"
   ]
  },
  {
   "cell_type": "code",
   "execution_count": 6,
   "id": "2616811e-55d4-4a61-b302-3b5cfedec1f7",
   "metadata": {},
   "outputs": [],
   "source": [
    "y2 = nn.functional.one_hot(y, num_classes=2).to(device).long()"
   ]
  },
  {
   "cell_type": "code",
   "execution_count": 7,
   "id": "287ba536-93c5-4f23-8c3c-2fcbd63dde34",
   "metadata": {},
   "outputs": [
    {
     "data": {
      "text/plain": [
       "(368, 31)"
      ]
     },
     "execution_count": 7,
     "metadata": {},
     "output_type": "execute_result"
    }
   ],
   "source": [
    "total = np.concatenate([X, X_test], axis=0)\n",
    "total.shape"
   ]
  },
  {
   "cell_type": "code",
   "execution_count": 8,
   "id": "e07b5d53-7f4d-40a5-a5b6-1d9e8b9d8def",
   "metadata": {},
   "outputs": [],
   "source": [
    "class Encoder(nn.Module):\n",
    "    def __init__(self, n_features, latent_dim):\n",
    "        super().__init__()\n",
    "        \n",
    "        self.lstm0 = nn.Sequential(nn.Linear(n_features, latent_dim**2),\n",
    "                                    nn.GELU(),\n",
    "                                    nn.Dropout(0.1))\n",
    "        self.lstm1 = nn.Sequential(nn.Linear(latent_dim**2, latent_dim*3),\n",
    "                                    nn.GELU(),\n",
    "                                    nn.Dropout(0.1))\n",
    "        self.lstm2 = nn.Sequential(nn.Linear(latent_dim*3, latent_dim),\n",
    "                                    nn.GELU(),\n",
    "                                    nn.Dropout(0.1))\n",
    "\n",
    "    def forward(self, x):\n",
    "        x1 = self.lstm0(x)\n",
    "        x2 = self.lstm1(x1)\n",
    "        x3 = self.lstm2(x2)\n",
    "        \n",
    "        return x3\n",
    "\n",
    "\n",
    "class Decoder(nn.Module):\n",
    "    def __init__(self, n_features, latent_dim):\n",
    "        super().__init__()\n",
    "        self.latent_dim = latent_dim\n",
    "        \n",
    "        self.lstm0 = nn.Sequential(nn.Linear(latent_dim, latent_dim*3),\n",
    "                                    nn.GELU(),\n",
    "                                    nn.Dropout(0.1))\n",
    "        self.lstm1 = nn.Sequential(nn.Linear(latent_dim*3, latent_dim**2),\n",
    "                                    nn.GELU(),\n",
    "                                    nn.Dropout(0.1))\n",
    "        self.lstm2 = nn.Sequential(nn.Linear(latent_dim**2, latent_dim*2),        \n",
    "                                    nn.GELU(),\n",
    "                                    nn.Dropout(0.1))\n",
    "        \n",
    "        \n",
    "        self.linear = nn.Linear(in_features=latent_dim*2, out_features=n_features)\n",
    "\n",
    "    def forward(self, x):        \n",
    "        x = self.lstm0(x)\n",
    "        x = self.lstm1(x)\n",
    "        x = self.lstm2(x)\n",
    "        \n",
    "        x = self.linear(x)\n",
    "\n",
    "        return x\n",
    "\n",
    "\n",
    "class AutoEncoder(nn.Module):\n",
    "    def __init__(self, n_features=31, latent_dim=7, device=None):\n",
    "        super().__init__()\n",
    "        \n",
    "        self.encoder = Encoder(n_features, latent_dim).to(device)\n",
    "        self.decoder = Decoder(n_features, latent_dim).to(device)\n",
    "\n",
    "    def forward(self, x):\n",
    "        x1 = self.encoder(x)\n",
    "        x2 = self.decoder(x1)\n",
    "        \n",
    "        return x1, x2"
   ]
  },
  {
   "cell_type": "code",
   "execution_count": 9,
   "id": "f50b900a-e86d-4e30-9d4a-3e8b9e7fee9c",
   "metadata": {},
   "outputs": [
    {
     "data": {
      "text/plain": [
       "AutoEncoder(\n",
       "  (encoder): Encoder(\n",
       "    (lstm0): Sequential(\n",
       "      (0): Linear(in_features=31, out_features=49, bias=True)\n",
       "      (1): GELU(approximate='none')\n",
       "      (2): Dropout(p=0.1, inplace=False)\n",
       "    )\n",
       "    (lstm1): Sequential(\n",
       "      (0): Linear(in_features=49, out_features=21, bias=True)\n",
       "      (1): GELU(approximate='none')\n",
       "      (2): Dropout(p=0.1, inplace=False)\n",
       "    )\n",
       "    (lstm2): Sequential(\n",
       "      (0): Linear(in_features=21, out_features=7, bias=True)\n",
       "      (1): GELU(approximate='none')\n",
       "      (2): Dropout(p=0.1, inplace=False)\n",
       "    )\n",
       "  )\n",
       "  (decoder): Decoder(\n",
       "    (lstm0): Sequential(\n",
       "      (0): Linear(in_features=7, out_features=21, bias=True)\n",
       "      (1): GELU(approximate='none')\n",
       "      (2): Dropout(p=0.1, inplace=False)\n",
       "    )\n",
       "    (lstm1): Sequential(\n",
       "      (0): Linear(in_features=21, out_features=49, bias=True)\n",
       "      (1): GELU(approximate='none')\n",
       "      (2): Dropout(p=0.1, inplace=False)\n",
       "    )\n",
       "    (lstm2): Sequential(\n",
       "      (0): Linear(in_features=49, out_features=14, bias=True)\n",
       "      (1): GELU(approximate='none')\n",
       "      (2): Dropout(p=0.1, inplace=False)\n",
       "    )\n",
       "    (linear): Linear(in_features=14, out_features=31, bias=True)\n",
       "  )\n",
       ")"
      ]
     },
     "execution_count": 9,
     "metadata": {},
     "output_type": "execute_result"
    }
   ],
   "source": [
    "encoder_model = AutoEncoder().to(device)\n",
    "encoder_model.load_state_dict(torch.load(f'./models/AutoEncoder_total.pt', map_location=device))\n",
    "encoder_model.eval()"
   ]
  },
  {
   "cell_type": "code",
   "execution_count": 10,
   "id": "10606fa2-0c81-4c54-aa79-89ef978e1f25",
   "metadata": {},
   "outputs": [
    {
     "data": {
      "application/vnd.jupyter.widget-view+json": {
       "model_id": "5bb011c9f0044e8cbd5f5b85b3e3ba82",
       "version_major": 2,
       "version_minor": 0
      },
      "text/plain": [
       "  0%|          | 0/368 [00:00<?, ?it/s]"
      ]
     },
     "metadata": {},
     "output_type": "display_data"
    },
    {
     "name": "stdout",
     "output_type": "stream",
     "text": [
      "368 368\n"
     ]
    }
   ],
   "source": [
    "train_dataset = TensorDataset(torch.from_numpy(total).type(torch.float), torch.zeros(len(total)).type(torch.float))\n",
    "train_loader = DataLoader(train_dataset, batch_size=1, shuffle=False, num_workers=2, worker_init_fn=seed_worker)\n",
    "\n",
    "encodings = []\n",
    "errors = []\n",
    "criterion = nn.MSELoss().to(device)\n",
    "for x, label in tqdm(iter(train_loader)):\n",
    "    x = x.to(device)\n",
    "    \n",
    "    encoded_features, decoded_features = encoder_model(x)\n",
    "    encodings += encoded_features.detach().cpu().numpy().tolist()\n",
    "    \n",
    "    loss = criterion(x, decoded_features)\n",
    "    errors.append(loss.detach().cpu())\n",
    "    \n",
    "print(len(encodings), len(errors))"
   ]
  },
  {
   "cell_type": "code",
   "execution_count": 11,
   "id": "8c303a98-ecdd-4302-ad3d-104a61b8f495",
   "metadata": {},
   "outputs": [
    {
     "data": {
      "text/plain": [
       "(368, 8)"
      ]
     },
     "execution_count": 11,
     "metadata": {},
     "output_type": "execute_result"
    }
   ],
   "source": [
    "encodings = np.array(encodings)\n",
    "errors = np.expand_dims(np.array(errors), axis=1)\n",
    "values = np.concatenate([encodings, errors], axis=1)\n",
    "values.shape"
   ]
  },
  {
   "cell_type": "code",
   "execution_count": 12,
   "id": "96daef73-f313-4242-8717-4b101fa12033",
   "metadata": {},
   "outputs": [
    {
     "data": {
      "text/html": [
       "<div>\n",
       "<style scoped>\n",
       "    .dataframe tbody tr th:only-of-type {\n",
       "        vertical-align: middle;\n",
       "    }\n",
       "\n",
       "    .dataframe tbody tr th {\n",
       "        vertical-align: top;\n",
       "    }\n",
       "\n",
       "    .dataframe thead th {\n",
       "        text-align: right;\n",
       "    }\n",
       "</style>\n",
       "<table border=\"1\" class=\"dataframe\">\n",
       "  <thead>\n",
       "    <tr style=\"text-align: right;\">\n",
       "      <th></th>\n",
       "      <th>encodings_0</th>\n",
       "      <th>encodings_1</th>\n",
       "      <th>encodings_2</th>\n",
       "      <th>encodings_3</th>\n",
       "      <th>encodings_4</th>\n",
       "      <th>encodings_5</th>\n",
       "      <th>encodings_6</th>\n",
       "      <th>errors</th>\n",
       "    </tr>\n",
       "  </thead>\n",
       "  <tbody>\n",
       "    <tr>\n",
       "      <th>0</th>\n",
       "      <td>0.038362</td>\n",
       "      <td>-0.123360</td>\n",
       "      <td>0.028561</td>\n",
       "      <td>-0.007297</td>\n",
       "      <td>-0.014100</td>\n",
       "      <td>-0.022615</td>\n",
       "      <td>-0.071094</td>\n",
       "      <td>0.027966</td>\n",
       "    </tr>\n",
       "    <tr>\n",
       "      <th>1</th>\n",
       "      <td>0.018671</td>\n",
       "      <td>0.003465</td>\n",
       "      <td>-0.168691</td>\n",
       "      <td>-0.089982</td>\n",
       "      <td>-0.076945</td>\n",
       "      <td>0.159816</td>\n",
       "      <td>0.338336</td>\n",
       "      <td>0.047560</td>\n",
       "    </tr>\n",
       "    <tr>\n",
       "      <th>2</th>\n",
       "      <td>0.160368</td>\n",
       "      <td>0.028850</td>\n",
       "      <td>0.055501</td>\n",
       "      <td>-0.033374</td>\n",
       "      <td>0.042429</td>\n",
       "      <td>0.094334</td>\n",
       "      <td>-0.099921</td>\n",
       "      <td>0.078756</td>\n",
       "    </tr>\n",
       "    <tr>\n",
       "      <th>3</th>\n",
       "      <td>-0.052722</td>\n",
       "      <td>0.162948</td>\n",
       "      <td>-0.049646</td>\n",
       "      <td>0.077969</td>\n",
       "      <td>-0.072254</td>\n",
       "      <td>0.062971</td>\n",
       "      <td>-0.052153</td>\n",
       "      <td>0.046547</td>\n",
       "    </tr>\n",
       "    <tr>\n",
       "      <th>4</th>\n",
       "      <td>0.016150</td>\n",
       "      <td>0.077639</td>\n",
       "      <td>-0.008436</td>\n",
       "      <td>0.060002</td>\n",
       "      <td>-0.028739</td>\n",
       "      <td>0.026300</td>\n",
       "      <td>-0.134074</td>\n",
       "      <td>0.024998</td>\n",
       "    </tr>\n",
       "    <tr>\n",
       "      <th>...</th>\n",
       "      <td>...</td>\n",
       "      <td>...</td>\n",
       "      <td>...</td>\n",
       "      <td>...</td>\n",
       "      <td>...</td>\n",
       "      <td>...</td>\n",
       "      <td>...</td>\n",
       "      <td>...</td>\n",
       "    </tr>\n",
       "    <tr>\n",
       "      <th>363</th>\n",
       "      <td>-0.161607</td>\n",
       "      <td>-0.003663</td>\n",
       "      <td>-0.010378</td>\n",
       "      <td>-0.040992</td>\n",
       "      <td>0.144521</td>\n",
       "      <td>-0.028976</td>\n",
       "      <td>-0.080442</td>\n",
       "      <td>0.042534</td>\n",
       "    </tr>\n",
       "    <tr>\n",
       "      <th>364</th>\n",
       "      <td>0.103941</td>\n",
       "      <td>-0.034385</td>\n",
       "      <td>-0.122455</td>\n",
       "      <td>0.058987</td>\n",
       "      <td>-0.001012</td>\n",
       "      <td>0.226782</td>\n",
       "      <td>0.057702</td>\n",
       "      <td>0.016201</td>\n",
       "    </tr>\n",
       "    <tr>\n",
       "      <th>365</th>\n",
       "      <td>0.102044</td>\n",
       "      <td>-0.053995</td>\n",
       "      <td>-0.068710</td>\n",
       "      <td>0.085086</td>\n",
       "      <td>0.070044</td>\n",
       "      <td>0.063672</td>\n",
       "      <td>0.108152</td>\n",
       "      <td>0.080130</td>\n",
       "    </tr>\n",
       "    <tr>\n",
       "      <th>366</th>\n",
       "      <td>0.060815</td>\n",
       "      <td>0.051417</td>\n",
       "      <td>0.044992</td>\n",
       "      <td>-0.076959</td>\n",
       "      <td>0.077362</td>\n",
       "      <td>-0.004386</td>\n",
       "      <td>-0.092469</td>\n",
       "      <td>0.032291</td>\n",
       "    </tr>\n",
       "    <tr>\n",
       "      <th>367</th>\n",
       "      <td>-0.146317</td>\n",
       "      <td>-0.088332</td>\n",
       "      <td>0.049230</td>\n",
       "      <td>-0.045944</td>\n",
       "      <td>-0.010209</td>\n",
       "      <td>-0.106920</td>\n",
       "      <td>-0.113071</td>\n",
       "      <td>0.072052</td>\n",
       "    </tr>\n",
       "  </tbody>\n",
       "</table>\n",
       "<p>368 rows × 8 columns</p>\n",
       "</div>"
      ],
      "text/plain": [
       "     encodings_0  encodings_1  encodings_2  encodings_3  encodings_4  \\\n",
       "0       0.038362    -0.123360     0.028561    -0.007297    -0.014100   \n",
       "1       0.018671     0.003465    -0.168691    -0.089982    -0.076945   \n",
       "2       0.160368     0.028850     0.055501    -0.033374     0.042429   \n",
       "3      -0.052722     0.162948    -0.049646     0.077969    -0.072254   \n",
       "4       0.016150     0.077639    -0.008436     0.060002    -0.028739   \n",
       "..           ...          ...          ...          ...          ...   \n",
       "363    -0.161607    -0.003663    -0.010378    -0.040992     0.144521   \n",
       "364     0.103941    -0.034385    -0.122455     0.058987    -0.001012   \n",
       "365     0.102044    -0.053995    -0.068710     0.085086     0.070044   \n",
       "366     0.060815     0.051417     0.044992    -0.076959     0.077362   \n",
       "367    -0.146317    -0.088332     0.049230    -0.045944    -0.010209   \n",
       "\n",
       "     encodings_5  encodings_6    errors  \n",
       "0      -0.022615    -0.071094  0.027966  \n",
       "1       0.159816     0.338336  0.047560  \n",
       "2       0.094334    -0.099921  0.078756  \n",
       "3       0.062971    -0.052153  0.046547  \n",
       "4       0.026300    -0.134074  0.024998  \n",
       "..           ...          ...       ...  \n",
       "363    -0.028976    -0.080442  0.042534  \n",
       "364     0.226782     0.057702  0.016201  \n",
       "365     0.063672     0.108152  0.080130  \n",
       "366    -0.004386    -0.092469  0.032291  \n",
       "367    -0.106920    -0.113071  0.072052  \n",
       "\n",
       "[368 rows x 8 columns]"
      ]
     },
     "execution_count": 12,
     "metadata": {},
     "output_type": "execute_result"
    }
   ],
   "source": [
    "df = pd.DataFrame(data=values, columns=[\"encodings_\"+str(x) for x in range(len(encodings[0]))] + [\"errors\"])\n",
    "df"
   ]
  },
  {
   "cell_type": "code",
   "execution_count": 13,
   "id": "38e03966-bb96-4ad8-92b4-11b945b36a40",
   "metadata": {},
   "outputs": [],
   "source": [
    "df.to_csv(\"./data/ae_values.csv\", index=False)"
   ]
  },
  {
   "cell_type": "code",
   "execution_count": null,
   "id": "085476db-99f1-44ba-94db-fec52555b76b",
   "metadata": {},
   "outputs": [],
   "source": []
  }
 ],
 "metadata": {
  "kernelspec": {
   "display_name": "Python 3 (ipykernel)",
   "language": "python",
   "name": "python3"
  },
  "language_info": {
   "codemirror_mode": {
    "name": "ipython",
    "version": 3
   },
   "file_extension": ".py",
   "mimetype": "text/x-python",
   "name": "python",
   "nbconvert_exporter": "python",
   "pygments_lexer": "ipython3",
   "version": "3.8.10"
  }
 },
 "nbformat": 4,
 "nbformat_minor": 5
}
