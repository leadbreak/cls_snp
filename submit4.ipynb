{
 "cells": [
  {
   "attachments": {},
   "cell_type": "markdown",
   "id": "f521c84a-67d0-4e66-89a6-97aa491bd2fd",
   "metadata": {},
   "source": [
    "# CONCEPT \n",
    "\n",
    "- Simple하게 하나의 모델로 전체 학습하도록\n",
    "- 변수를 제거해가며 진행"
   ]
  },
  {
   "attachments": {},
   "cell_type": "markdown",
   "id": "a1009911-7ff5-481e-b3ef-45f2a14112e4",
   "metadata": {},
   "source": [
    "# STEP 01"
   ]
  },
  {
   "cell_type": "code",
   "execution_count": 63,
   "id": "955b5246-fe99-4bf1-8be6-087f92605db5",
   "metadata": {},
   "outputs": [],
   "source": [
    "import warnings\n",
    "warnings.filterwarnings(action='ignore')\n",
    "\n",
    "import os\n",
    "import gc\n",
    "import math\n",
    "import random\n",
    "import pickle\n",
    "import pandas as pd\n",
    "import numpy as np\n",
    "import multiprocessing\n",
    "from tqdm.auto import tqdm\n",
    "\n",
    "from sklearn.metrics import f1_score\n",
    "\n",
    "import torch\n",
    "import torch.nn as nn\n",
    "import torch.optim as optim\n",
    "import torch.nn.functional as F\n",
    "from torch.utils.data import Dataset, DataLoader, TensorDataset, sampler\n",
    "\n",
    "from xgboost import XGBClassifier, XGBRegressor\n",
    "from catboost import CatBoostClassifier, CatBoostRegressor\n",
    "from imblearn.over_sampling import SMOTE, SMOTENC, SMOTEN\n",
    "\n",
    "import shap\n",
    "import catboost"
   ]
  },
  {
   "cell_type": "code",
   "execution_count": 2,
   "id": "0d8d0b92-22ab-45fd-91a1-09c4f9a362ac",
   "metadata": {},
   "outputs": [
    {
     "data": {
      "text/plain": [
       "device(type='cuda', index=1)"
      ]
     },
     "execution_count": 2,
     "metadata": {},
     "output_type": "execute_result"
    }
   ],
   "source": [
    "device = torch.device('cuda:1') if torch.cuda.is_available() else torch.device('cpu')\n",
    "device"
   ]
  },
  {
   "cell_type": "code",
   "execution_count": 3,
   "id": "e890b06b-edd9-4ec6-bd7e-e0791cec6271",
   "metadata": {},
   "outputs": [
    {
     "name": "stdout",
     "output_type": "stream",
     "text": [
      "<class 'pandas.core.frame.DataFrame'>\n",
      "RangeIndex: 262 entries, 0 to 261\n",
      "Data columns (total 21 columns):\n",
      " #   Column  Non-Null Count  Dtype \n",
      "---  ------  --------------  ----- \n",
      " 0   id      262 non-null    object\n",
      " 1   father  262 non-null    int64 \n",
      " 2   mother  262 non-null    int64 \n",
      " 3   gender  262 non-null    int64 \n",
      " 4   trait   262 non-null    int64 \n",
      " 5   SNP_01  262 non-null    object\n",
      " 6   SNP_02  262 non-null    object\n",
      " 7   SNP_03  262 non-null    object\n",
      " 8   SNP_04  262 non-null    object\n",
      " 9   SNP_05  262 non-null    object\n",
      " 10  SNP_06  262 non-null    object\n",
      " 11  SNP_07  262 non-null    object\n",
      " 12  SNP_08  262 non-null    object\n",
      " 13  SNP_09  262 non-null    object\n",
      " 14  SNP_10  262 non-null    object\n",
      " 15  SNP_11  262 non-null    object\n",
      " 16  SNP_12  262 non-null    object\n",
      " 17  SNP_13  262 non-null    object\n",
      " 18  SNP_14  262 non-null    object\n",
      " 19  SNP_15  262 non-null    object\n",
      " 20  class   262 non-null    object\n",
      "dtypes: int64(4), object(17)\n",
      "memory usage: 43.1+ KB\n"
     ]
    }
   ],
   "source": [
    "df_train = pd.read_csv('./data/train.csv')\n",
    "df_test = pd.read_csv('./data/test.csv')              \n",
    "df_train.info()"
   ]
  },
  {
   "cell_type": "code",
   "execution_count": 4,
   "id": "13eeb534",
   "metadata": {},
   "outputs": [
    {
     "data": {
      "text/plain": [
       "B    114\n",
       "C     79\n",
       "A     69\n",
       "Name: class, dtype: int64"
      ]
     },
     "execution_count": 4,
     "metadata": {},
     "output_type": "execute_result"
    }
   ],
   "source": [
    "df_train['class'].value_counts()"
   ]
  },
  {
   "cell_type": "code",
   "execution_count": 5,
   "id": "c102d8fb-f7f4-4110-aa13-6ae8975bb3d4",
   "metadata": {},
   "outputs": [
    {
     "name": "stdout",
     "output_type": "stream",
     "text": [
      "<class 'pandas.core.frame.DataFrame'>\n",
      "RangeIndex: 175 entries, 0 to 174\n",
      "Data columns (total 20 columns):\n",
      " #   Column  Non-Null Count  Dtype \n",
      "---  ------  --------------  ----- \n",
      " 0   id      175 non-null    object\n",
      " 1   father  175 non-null    int64 \n",
      " 2   mother  175 non-null    int64 \n",
      " 3   gender  175 non-null    int64 \n",
      " 4   trait   175 non-null    int64 \n",
      " 5   SNP_01  175 non-null    object\n",
      " 6   SNP_02  175 non-null    object\n",
      " 7   SNP_03  175 non-null    object\n",
      " 8   SNP_04  175 non-null    object\n",
      " 9   SNP_05  175 non-null    object\n",
      " 10  SNP_06  175 non-null    object\n",
      " 11  SNP_07  175 non-null    object\n",
      " 12  SNP_08  175 non-null    object\n",
      " 13  SNP_09  175 non-null    object\n",
      " 14  SNP_10  175 non-null    object\n",
      " 15  SNP_11  175 non-null    object\n",
      " 16  SNP_12  175 non-null    object\n",
      " 17  SNP_13  175 non-null    object\n",
      " 18  SNP_14  175 non-null    object\n",
      " 19  SNP_15  175 non-null    object\n",
      "dtypes: int64(4), object(16)\n",
      "memory usage: 27.5+ KB\n"
     ]
    }
   ],
   "source": [
    "df_test.info()"
   ]
  },
  {
   "cell_type": "code",
   "execution_count": 6,
   "id": "090b0248-3863-4dd5-898d-b3220088f533",
   "metadata": {},
   "outputs": [
    {
     "data": {
      "text/html": [
       "<div>\n",
       "<style scoped>\n",
       "    .dataframe tbody tr th:only-of-type {\n",
       "        vertical-align: middle;\n",
       "    }\n",
       "\n",
       "    .dataframe tbody tr th {\n",
       "        vertical-align: top;\n",
       "    }\n",
       "\n",
       "    .dataframe thead th {\n",
       "        text-align: right;\n",
       "    }\n",
       "</style>\n",
       "<table border=\"1\" class=\"dataframe\">\n",
       "  <thead>\n",
       "    <tr style=\"text-align: right;\">\n",
       "      <th></th>\n",
       "      <th>father</th>\n",
       "      <th>mother</th>\n",
       "      <th>gender</th>\n",
       "      <th>trait</th>\n",
       "    </tr>\n",
       "  </thead>\n",
       "  <tbody>\n",
       "    <tr>\n",
       "      <th>count</th>\n",
       "      <td>262.0</td>\n",
       "      <td>262.0</td>\n",
       "      <td>262.0</td>\n",
       "      <td>262.000000</td>\n",
       "    </tr>\n",
       "    <tr>\n",
       "      <th>mean</th>\n",
       "      <td>0.0</td>\n",
       "      <td>0.0</td>\n",
       "      <td>0.0</td>\n",
       "      <td>1.736641</td>\n",
       "    </tr>\n",
       "    <tr>\n",
       "      <th>std</th>\n",
       "      <td>0.0</td>\n",
       "      <td>0.0</td>\n",
       "      <td>0.0</td>\n",
       "      <td>0.441298</td>\n",
       "    </tr>\n",
       "    <tr>\n",
       "      <th>min</th>\n",
       "      <td>0.0</td>\n",
       "      <td>0.0</td>\n",
       "      <td>0.0</td>\n",
       "      <td>1.000000</td>\n",
       "    </tr>\n",
       "    <tr>\n",
       "      <th>25%</th>\n",
       "      <td>0.0</td>\n",
       "      <td>0.0</td>\n",
       "      <td>0.0</td>\n",
       "      <td>1.000000</td>\n",
       "    </tr>\n",
       "    <tr>\n",
       "      <th>50%</th>\n",
       "      <td>0.0</td>\n",
       "      <td>0.0</td>\n",
       "      <td>0.0</td>\n",
       "      <td>2.000000</td>\n",
       "    </tr>\n",
       "    <tr>\n",
       "      <th>75%</th>\n",
       "      <td>0.0</td>\n",
       "      <td>0.0</td>\n",
       "      <td>0.0</td>\n",
       "      <td>2.000000</td>\n",
       "    </tr>\n",
       "    <tr>\n",
       "      <th>max</th>\n",
       "      <td>0.0</td>\n",
       "      <td>0.0</td>\n",
       "      <td>0.0</td>\n",
       "      <td>2.000000</td>\n",
       "    </tr>\n",
       "  </tbody>\n",
       "</table>\n",
       "</div>"
      ],
      "text/plain": [
       "       father  mother  gender       trait\n",
       "count   262.0   262.0   262.0  262.000000\n",
       "mean      0.0     0.0     0.0    1.736641\n",
       "std       0.0     0.0     0.0    0.441298\n",
       "min       0.0     0.0     0.0    1.000000\n",
       "25%       0.0     0.0     0.0    1.000000\n",
       "50%       0.0     0.0     0.0    2.000000\n",
       "75%       0.0     0.0     0.0    2.000000\n",
       "max       0.0     0.0     0.0    2.000000"
      ]
     },
     "execution_count": 6,
     "metadata": {},
     "output_type": "execute_result"
    }
   ],
   "source": [
    "df_train.describe()"
   ]
  },
  {
   "cell_type": "code",
   "execution_count": 7,
   "id": "a4c58d8d-cc02-42ee-86e4-669bcb32a1be",
   "metadata": {},
   "outputs": [
    {
     "data": {
      "text/html": [
       "<div>\n",
       "<style scoped>\n",
       "    .dataframe tbody tr th:only-of-type {\n",
       "        vertical-align: middle;\n",
       "    }\n",
       "\n",
       "    .dataframe tbody tr th {\n",
       "        vertical-align: top;\n",
       "    }\n",
       "\n",
       "    .dataframe thead th {\n",
       "        text-align: right;\n",
       "    }\n",
       "</style>\n",
       "<table border=\"1\" class=\"dataframe\">\n",
       "  <thead>\n",
       "    <tr style=\"text-align: right;\">\n",
       "      <th></th>\n",
       "      <th>father</th>\n",
       "      <th>mother</th>\n",
       "      <th>gender</th>\n",
       "      <th>trait</th>\n",
       "    </tr>\n",
       "  </thead>\n",
       "  <tbody>\n",
       "    <tr>\n",
       "      <th>count</th>\n",
       "      <td>175.0</td>\n",
       "      <td>175.0</td>\n",
       "      <td>175.0</td>\n",
       "      <td>175.000000</td>\n",
       "    </tr>\n",
       "    <tr>\n",
       "      <th>mean</th>\n",
       "      <td>0.0</td>\n",
       "      <td>0.0</td>\n",
       "      <td>0.0</td>\n",
       "      <td>1.708571</td>\n",
       "    </tr>\n",
       "    <tr>\n",
       "      <th>std</th>\n",
       "      <td>0.0</td>\n",
       "      <td>0.0</td>\n",
       "      <td>0.0</td>\n",
       "      <td>0.455724</td>\n",
       "    </tr>\n",
       "    <tr>\n",
       "      <th>min</th>\n",
       "      <td>0.0</td>\n",
       "      <td>0.0</td>\n",
       "      <td>0.0</td>\n",
       "      <td>1.000000</td>\n",
       "    </tr>\n",
       "    <tr>\n",
       "      <th>25%</th>\n",
       "      <td>0.0</td>\n",
       "      <td>0.0</td>\n",
       "      <td>0.0</td>\n",
       "      <td>1.000000</td>\n",
       "    </tr>\n",
       "    <tr>\n",
       "      <th>50%</th>\n",
       "      <td>0.0</td>\n",
       "      <td>0.0</td>\n",
       "      <td>0.0</td>\n",
       "      <td>2.000000</td>\n",
       "    </tr>\n",
       "    <tr>\n",
       "      <th>75%</th>\n",
       "      <td>0.0</td>\n",
       "      <td>0.0</td>\n",
       "      <td>0.0</td>\n",
       "      <td>2.000000</td>\n",
       "    </tr>\n",
       "    <tr>\n",
       "      <th>max</th>\n",
       "      <td>0.0</td>\n",
       "      <td>0.0</td>\n",
       "      <td>0.0</td>\n",
       "      <td>2.000000</td>\n",
       "    </tr>\n",
       "  </tbody>\n",
       "</table>\n",
       "</div>"
      ],
      "text/plain": [
       "       father  mother  gender       trait\n",
       "count   175.0   175.0   175.0  175.000000\n",
       "mean      0.0     0.0     0.0    1.708571\n",
       "std       0.0     0.0     0.0    0.455724\n",
       "min       0.0     0.0     0.0    1.000000\n",
       "25%       0.0     0.0     0.0    1.000000\n",
       "50%       0.0     0.0     0.0    2.000000\n",
       "75%       0.0     0.0     0.0    2.000000\n",
       "max       0.0     0.0     0.0    2.000000"
      ]
     },
     "execution_count": 7,
     "metadata": {},
     "output_type": "execute_result"
    }
   ],
   "source": [
    "df_test.describe()"
   ]
  },
  {
   "cell_type": "code",
   "execution_count": 212,
   "id": "afbd4d3a-e472-4d0e-9874-7856c267a97c",
   "metadata": {},
   "outputs": [],
   "source": [
    "# trait와 Label A의 상관계수가 1로, 다른 변수에 대한 영향력이 학습되지 않을 정도로 높으므로 배제해보고 진행\n",
    "df_train2 = df_train.drop(columns=['father', 'mother', 'gender','trait', 'SNP_04', 'SNP_01'])\n",
    "df_test2 = df_test.drop(columns=['father', 'mother', 'gender', 'trait', 'SNP_04', 'SNP_01'])\n",
    "\n",
    "strategy1 = {'A':1000, 'B':1000, 'C':1000}\n",
    "smote1 = SMOTEN(sampling_strategy=strategy1, k_neighbors=50)\n",
    "strategy2 = {'A':1000, 'B':1000, 'C':1100}\n",
    "smote2 = SMOTEN(sampling_strategy=strategy2, k_neighbors=50)\n",
    "X, y = df_train2.iloc[:, 1:-1], (df_train2['class'].values )\n",
    "X2, y2 = smote1.fit_resample(X, y)\n",
    "X3, y3 = smote2.fit_resample(X, y)"
   ]
  },
  {
   "cell_type": "code",
   "execution_count": 213,
   "id": "f614e17b",
   "metadata": {},
   "outputs": [],
   "source": [
    "def catgbmc(inputX, inputY, validX, validY, params) :  \n",
    "    var_categ = inputX.columns.tolist()\n",
    "    model = CatBoostClassifier(\n",
    "        cat_features=var_categ,\n",
    "        **params,\n",
    "        task_type='GPU',\n",
    "        devices='0',\n",
    "        )\n",
    "  \n",
    "    model.fit(\n",
    "        inputX, inputY,\n",
    "        eval_set=(inputX, inputY)\n",
    "        );     \n",
    "\n",
    "    pred = model.predict(validX)\n",
    "    score = f1_score(validY, pred, average='macro')\n",
    "    print(score)\n",
    "    \n",
    "    return model"
   ]
  },
  {
   "cell_type": "code",
   "execution_count": 214,
   "id": "d375c976",
   "metadata": {},
   "outputs": [
    {
     "name": "stdout",
     "output_type": "stream",
     "text": [
      "1.0\n",
      "1.0\n"
     ]
    }
   ],
   "source": [
    "params = {'iterations':1000,\n",
    "          'learning_rate':0.1,\n",
    "          # 'l2_leaf_reg' : 10,\n",
    "          # 'grow_policy' : 'Lossguide',\n",
    "          'verbose':0,\n",
    "          'random_seed':0}\n",
    "\n",
    "model1 = catgbmc(X2, y2, X, y, params)\n",
    "model2 = catgbmc(X3, y3, X, y, params)"
   ]
  },
  {
   "cell_type": "code",
   "execution_count": 215,
   "id": "14f0d627",
   "metadata": {},
   "outputs": [
    {
     "data": {
      "text/html": [
       "<div>\n",
       "<style scoped>\n",
       "    .dataframe tbody tr th:only-of-type {\n",
       "        vertical-align: middle;\n",
       "    }\n",
       "\n",
       "    .dataframe tbody tr th {\n",
       "        vertical-align: top;\n",
       "    }\n",
       "\n",
       "    .dataframe thead th {\n",
       "        text-align: right;\n",
       "    }\n",
       "</style>\n",
       "<table border=\"1\" class=\"dataframe\">\n",
       "  <thead>\n",
       "    <tr style=\"text-align: right;\">\n",
       "      <th></th>\n",
       "      <th>feature_importance</th>\n",
       "    </tr>\n",
       "  </thead>\n",
       "  <tbody>\n",
       "    <tr>\n",
       "      <th>SNP_11</th>\n",
       "      <td>66.121133</td>\n",
       "    </tr>\n",
       "    <tr>\n",
       "      <th>SNP_08</th>\n",
       "      <td>8.084872</td>\n",
       "    </tr>\n",
       "    <tr>\n",
       "      <th>SNP_05</th>\n",
       "      <td>5.471976</td>\n",
       "    </tr>\n",
       "    <tr>\n",
       "      <th>SNP_02</th>\n",
       "      <td>5.310721</td>\n",
       "    </tr>\n",
       "    <tr>\n",
       "      <th>SNP_15</th>\n",
       "      <td>3.510609</td>\n",
       "    </tr>\n",
       "    <tr>\n",
       "      <th>SNP_10</th>\n",
       "      <td>3.100119</td>\n",
       "    </tr>\n",
       "    <tr>\n",
       "      <th>SNP_13</th>\n",
       "      <td>2.505559</td>\n",
       "    </tr>\n",
       "    <tr>\n",
       "      <th>SNP_03</th>\n",
       "      <td>1.932633</td>\n",
       "    </tr>\n",
       "    <tr>\n",
       "      <th>SNP_07</th>\n",
       "      <td>1.767096</td>\n",
       "    </tr>\n",
       "    <tr>\n",
       "      <th>SNP_06</th>\n",
       "      <td>1.187325</td>\n",
       "    </tr>\n",
       "    <tr>\n",
       "      <th>SNP_12</th>\n",
       "      <td>0.510014</td>\n",
       "    </tr>\n",
       "    <tr>\n",
       "      <th>SNP_09</th>\n",
       "      <td>0.319244</td>\n",
       "    </tr>\n",
       "    <tr>\n",
       "      <th>SNP_14</th>\n",
       "      <td>0.178698</td>\n",
       "    </tr>\n",
       "  </tbody>\n",
       "</table>\n",
       "</div>"
      ],
      "text/plain": [
       "        feature_importance\n",
       "SNP_11           66.121133\n",
       "SNP_08            8.084872\n",
       "SNP_05            5.471976\n",
       "SNP_02            5.310721\n",
       "SNP_15            3.510609\n",
       "SNP_10            3.100119\n",
       "SNP_13            2.505559\n",
       "SNP_03            1.932633\n",
       "SNP_07            1.767096\n",
       "SNP_06            1.187325\n",
       "SNP_12            0.510014\n",
       "SNP_09            0.319244\n",
       "SNP_14            0.178698"
      ]
     },
     "execution_count": 215,
     "metadata": {},
     "output_type": "execute_result"
    }
   ],
   "source": [
    "pd.DataFrame(data=model1.get_feature_importance(), index=model1.feature_names_, columns=['feature_importance']).sort_values('feature_importance', ascending=False)"
   ]
  },
  {
   "cell_type": "code",
   "execution_count": 216,
   "id": "74a8e481",
   "metadata": {},
   "outputs": [
    {
     "data": {
      "text/html": [
       "<div>\n",
       "<style scoped>\n",
       "    .dataframe tbody tr th:only-of-type {\n",
       "        vertical-align: middle;\n",
       "    }\n",
       "\n",
       "    .dataframe tbody tr th {\n",
       "        vertical-align: top;\n",
       "    }\n",
       "\n",
       "    .dataframe thead th {\n",
       "        text-align: right;\n",
       "    }\n",
       "</style>\n",
       "<table border=\"1\" class=\"dataframe\">\n",
       "  <thead>\n",
       "    <tr style=\"text-align: right;\">\n",
       "      <th></th>\n",
       "      <th>feature_importance</th>\n",
       "    </tr>\n",
       "  </thead>\n",
       "  <tbody>\n",
       "    <tr>\n",
       "      <th>SNP_11</th>\n",
       "      <td>67.232553</td>\n",
       "    </tr>\n",
       "    <tr>\n",
       "      <th>SNP_05</th>\n",
       "      <td>8.011599</td>\n",
       "    </tr>\n",
       "    <tr>\n",
       "      <th>SNP_08</th>\n",
       "      <td>7.529667</td>\n",
       "    </tr>\n",
       "    <tr>\n",
       "      <th>SNP_02</th>\n",
       "      <td>6.825513</td>\n",
       "    </tr>\n",
       "    <tr>\n",
       "      <th>SNP_15</th>\n",
       "      <td>2.477000</td>\n",
       "    </tr>\n",
       "    <tr>\n",
       "      <th>SNP_10</th>\n",
       "      <td>1.942005</td>\n",
       "    </tr>\n",
       "    <tr>\n",
       "      <th>SNP_06</th>\n",
       "      <td>1.213447</td>\n",
       "    </tr>\n",
       "    <tr>\n",
       "      <th>SNP_03</th>\n",
       "      <td>1.140276</td>\n",
       "    </tr>\n",
       "    <tr>\n",
       "      <th>SNP_14</th>\n",
       "      <td>1.104637</td>\n",
       "    </tr>\n",
       "    <tr>\n",
       "      <th>SNP_07</th>\n",
       "      <td>0.949041</td>\n",
       "    </tr>\n",
       "    <tr>\n",
       "      <th>SNP_12</th>\n",
       "      <td>0.808442</td>\n",
       "    </tr>\n",
       "    <tr>\n",
       "      <th>SNP_13</th>\n",
       "      <td>0.657146</td>\n",
       "    </tr>\n",
       "    <tr>\n",
       "      <th>SNP_09</th>\n",
       "      <td>0.108673</td>\n",
       "    </tr>\n",
       "  </tbody>\n",
       "</table>\n",
       "</div>"
      ],
      "text/plain": [
       "        feature_importance\n",
       "SNP_11           67.232553\n",
       "SNP_05            8.011599\n",
       "SNP_08            7.529667\n",
       "SNP_02            6.825513\n",
       "SNP_15            2.477000\n",
       "SNP_10            1.942005\n",
       "SNP_06            1.213447\n",
       "SNP_03            1.140276\n",
       "SNP_14            1.104637\n",
       "SNP_07            0.949041\n",
       "SNP_12            0.808442\n",
       "SNP_13            0.657146\n",
       "SNP_09            0.108673"
      ]
     },
     "execution_count": 216,
     "metadata": {},
     "output_type": "execute_result"
    }
   ],
   "source": [
    "pd.DataFrame(data=model2.get_feature_importance(), index=model2.feature_names_, columns=['feature_importance']).sort_values('feature_importance', ascending=False)"
   ]
  },
  {
   "cell_type": "code",
   "execution_count": 217,
   "id": "b8a56c84",
   "metadata": {},
   "outputs": [],
   "source": [
    "def show_shap(model) :        \n",
    "    # Use a KernelExplainer since catboost is not yet supported by TreeExplainer\n",
    "    explainer = shap.KernelExplainer(model.predict_proba, X)\n",
    "    #shap_values = explainer.shap_values(X_train) # does not work with current shap version if using a catboost classifier\n",
    "    shap_values = model.get_feature_importance(catboost.Pool(X, y, cat_features=[x for x in range(X.shape[1])]), type=catboost.EFstrType.ShapValues)  # can use 'ShapValues' instead for the type, and categorical_columns is the list of the columns names where the values are categorical\n",
    "\n",
    "    # visualize the first prediction's explanation\n",
    "    shap.force_plot(explainer.expected_value[0], shap_values[0], feature_names=X.columns, out_names=list(df_train2['class'].unique()))\n",
    "\n",
    "    # summarize the effects of all the features in a multi-class barplot\n",
    "    original_shape = shap_values.shape\n",
    "    shap_values_reshaped = shap_values.reshape(original_shape[1], original_shape[0], original_shape[-1])\n",
    "    shap.summary_plot(list(shap_values_reshaped[:,:,:-1]), features=X, class_names=df_train2['class'].unique(), plot_type='bar')"
   ]
  },
  {
   "cell_type": "code",
   "execution_count": 218,
   "id": "3579f914",
   "metadata": {},
   "outputs": [
    {
     "name": "stderr",
     "output_type": "stream",
     "text": [
      "Using 262 background data samples could cause slower run times. Consider using shap.sample(data, K) or shap.kmeans(data, K) to summarize the background as K samples.\n"
     ]
    },
    {
     "data": {
      "image/png": "[encoded data removed]",
      "text/plain": [
       "<Figure size 800x670 with 1 Axes>"
      ]
     },
     "metadata": {},
     "output_type": "display_data"
    }
   ],
   "source": [
    "show_shap(model1)"
   ]
  },
  {
   "cell_type": "code",
   "execution_count": 219,
   "id": "4e7ec27e",
   "metadata": {},
   "outputs": [
    {
     "name": "stderr",
     "output_type": "stream",
     "text": [
      "Using 262 background data samples could cause slower run times. Consider using shap.sample(data, K) or shap.kmeans(data, K) to summarize the background as K samples.\n"
     ]
    },
    {
     "data": {
      "image/png": "[encoded data removed]",
      "text/plain": [
       "<Figure size 800x670 with 1 Axes>"
      ]
     },
     "metadata": {},
     "output_type": "display_data"
    }
   ],
   "source": [
    "show_shap(model2)"
   ]
  },
  {
   "cell_type": "code",
   "execution_count": 220,
   "id": "c3299c9a",
   "metadata": {},
   "outputs": [
    {
     "name": "stdout",
     "output_type": "stream",
     "text": [
      "1.0\n"
     ]
    }
   ],
   "source": [
    "pred = model1.predict(X)\n",
    "score = f1_score(y, pred, average='macro')\n",
    "print(score) "
   ]
  },
  {
   "cell_type": "code",
   "execution_count": 221,
   "id": "aa7d9a3c",
   "metadata": {},
   "outputs": [
    {
     "name": "stdout",
     "output_type": "stream",
     "text": [
      "1.0\n"
     ]
    }
   ],
   "source": [
    "pred = model2.predict(X)\n",
    "score = f1_score(y, pred, average='macro')\n",
    "print(score) "
   ]
  },
  {
   "cell_type": "code",
   "execution_count": 222,
   "id": "fdc917d7",
   "metadata": {},
   "outputs": [
    {
     "data": {
      "text/plain": [
       "14"
      ]
     },
     "execution_count": 222,
     "metadata": {},
     "output_type": "execute_result"
    }
   ],
   "source": [
    "pred1 = model1.predict(df_test2.iloc[:, 1:])\n",
    "pred2 = model2.predict(df_test2.iloc[:, 1:])\n",
    "np.sum(pred1 != pred2)"
   ]
  },
  {
   "cell_type": "code",
   "execution_count": 223,
   "id": "5eaf60e0",
   "metadata": {},
   "outputs": [
    {
     "data": {
      "text/plain": [
       "array([0, 1, 2, 1, 0, 1, 2, 2, 0, 0, 2, 1, 2, 0, 1, 1, 0, 2, 1, 1, 1, 1,\n",
       "       1, 0, 1, 1, 1, 0, 0, 1, 0, 0, 1, 2, 0, 2, 2, 1, 1, 2, 0, 1, 2, 1,\n",
       "       1, 1, 1, 2, 1, 2, 0, 1, 0, 1, 1, 1, 2, 0, 1, 2, 2, 1, 2, 2, 2, 0,\n",
       "       0, 0, 0, 1, 1, 1, 0, 0, 1, 1, 2, 1, 1, 1, 2, 1, 0, 1, 1, 1, 1, 1,\n",
       "       2, 0, 1, 1, 2, 1, 1, 2, 0, 1, 0, 2, 0, 1, 1, 2, 0, 0, 2, 1, 0, 1,\n",
       "       1, 1, 1, 1, 1, 0, 0, 1, 1, 2, 0, 1, 1, 2, 2, 1, 2, 1, 0, 1, 0, 0,\n",
       "       1, 1, 1, 2, 0, 0, 1, 0, 2, 0, 2, 1, 1, 1, 0, 1, 2, 0, 0, 2, 0, 1,\n",
       "       1, 0, 0, 1, 2, 0, 1, 2, 2, 1, 0, 0, 2, 1, 1, 0, 1, 2, 2, 1, 1])"
      ]
     },
     "execution_count": 223,
     "metadata": {},
     "output_type": "execute_result"
    }
   ],
   "source": [
    "pred3 = model1.predict_proba(df_test2.iloc[:, 1:])\n",
    "pred4 = model2.predict_proba(df_test2.iloc[:, 1:])\n",
    "\n",
    "pred5 = np.argmax((pred3+pred4) / 2, axis=1)\n",
    "pred5"
   ]
  },
  {
   "cell_type": "code",
   "execution_count": 224,
   "id": "3d559b7d",
   "metadata": {},
   "outputs": [
    {
     "data": {
      "text/html": [
       "<div>\n",
       "<style scoped>\n",
       "    .dataframe tbody tr th:only-of-type {\n",
       "        vertical-align: middle;\n",
       "    }\n",
       "\n",
       "    .dataframe tbody tr th {\n",
       "        vertical-align: top;\n",
       "    }\n",
       "\n",
       "    .dataframe thead th {\n",
       "        text-align: right;\n",
       "    }\n",
       "</style>\n",
       "<table border=\"1\" class=\"dataframe\">\n",
       "  <thead>\n",
       "    <tr style=\"text-align: right;\">\n",
       "      <th></th>\n",
       "      <th>pred1</th>\n",
       "      <th>pred2</th>\n",
       "      <th>high1</th>\n",
       "      <th>high2</th>\n",
       "      <th>pred5</th>\n",
       "    </tr>\n",
       "  </thead>\n",
       "  <tbody>\n",
       "    <tr>\n",
       "      <th>7</th>\n",
       "      <td>C</td>\n",
       "      <td>B</td>\n",
       "      <td>B</td>\n",
       "      <td>B</td>\n",
       "      <td>2</td>\n",
       "    </tr>\n",
       "    <tr>\n",
       "      <th>17</th>\n",
       "      <td>C</td>\n",
       "      <td>B</td>\n",
       "      <td>B</td>\n",
       "      <td>B</td>\n",
       "      <td>2</td>\n",
       "    </tr>\n",
       "    <tr>\n",
       "      <th>56</th>\n",
       "      <td>C</td>\n",
       "      <td>B</td>\n",
       "      <td>C</td>\n",
       "      <td>C</td>\n",
       "      <td>2</td>\n",
       "    </tr>\n",
       "    <tr>\n",
       "      <th>58</th>\n",
       "      <td>C</td>\n",
       "      <td>B</td>\n",
       "      <td>B</td>\n",
       "      <td>B</td>\n",
       "      <td>1</td>\n",
       "    </tr>\n",
       "    <tr>\n",
       "      <th>60</th>\n",
       "      <td>C</td>\n",
       "      <td>A</td>\n",
       "      <td>A</td>\n",
       "      <td>A</td>\n",
       "      <td>2</td>\n",
       "    </tr>\n",
       "    <tr>\n",
       "      <th>74</th>\n",
       "      <td>C</td>\n",
       "      <td>B</td>\n",
       "      <td>C</td>\n",
       "      <td>C</td>\n",
       "      <td>1</td>\n",
       "    </tr>\n",
       "    <tr>\n",
       "      <th>85</th>\n",
       "      <td>B</td>\n",
       "      <td>C</td>\n",
       "      <td>B</td>\n",
       "      <td>B</td>\n",
       "      <td>1</td>\n",
       "    </tr>\n",
       "    <tr>\n",
       "      <th>110</th>\n",
       "      <td>C</td>\n",
       "      <td>B</td>\n",
       "      <td>C</td>\n",
       "      <td>C</td>\n",
       "      <td>1</td>\n",
       "    </tr>\n",
       "    <tr>\n",
       "      <th>117</th>\n",
       "      <td>C</td>\n",
       "      <td>B</td>\n",
       "      <td>C</td>\n",
       "      <td>C</td>\n",
       "      <td>1</td>\n",
       "    </tr>\n",
       "    <tr>\n",
       "      <th>119</th>\n",
       "      <td>C</td>\n",
       "      <td>B</td>\n",
       "      <td>C</td>\n",
       "      <td>C</td>\n",
       "      <td>2</td>\n",
       "    </tr>\n",
       "    <tr>\n",
       "      <th>126</th>\n",
       "      <td>A</td>\n",
       "      <td>C</td>\n",
       "      <td>B</td>\n",
       "      <td>C</td>\n",
       "      <td>2</td>\n",
       "    </tr>\n",
       "    <tr>\n",
       "      <th>127</th>\n",
       "      <td>C</td>\n",
       "      <td>B</td>\n",
       "      <td>B</td>\n",
       "      <td>B</td>\n",
       "      <td>1</td>\n",
       "    </tr>\n",
       "    <tr>\n",
       "      <th>145</th>\n",
       "      <td>C</td>\n",
       "      <td>B</td>\n",
       "      <td>B</td>\n",
       "      <td>B</td>\n",
       "      <td>1</td>\n",
       "    </tr>\n",
       "    <tr>\n",
       "      <th>162</th>\n",
       "      <td>C</td>\n",
       "      <td>B</td>\n",
       "      <td>C</td>\n",
       "      <td>C</td>\n",
       "      <td>2</td>\n",
       "    </tr>\n",
       "  </tbody>\n",
       "</table>\n",
       "</div>"
      ],
      "text/plain": [
       "    pred1 pred2 high1 high2  pred5\n",
       "7       C     B     B     B      2\n",
       "17      C     B     B     B      2\n",
       "56      C     B     C     C      2\n",
       "58      C     B     B     B      1\n",
       "60      C     A     A     A      2\n",
       "74      C     B     C     C      1\n",
       "85      B     C     B     B      1\n",
       "110     C     B     C     C      1\n",
       "117     C     B     C     C      1\n",
       "119     C     B     C     C      2\n",
       "126     A     C     B     C      2\n",
       "127     C     B     B     B      1\n",
       "145     C     B     B     B      1\n",
       "162     C     B     C     C      2"
      ]
     },
     "execution_count": 224,
     "metadata": {},
     "output_type": "execute_result"
    }
   ],
   "source": [
    "df = pd.DataFrame()\n",
    "df['pred1'] = pd.Series(pred1.flatten())\n",
    "df['pred2'] = pd.Series(pred2.flatten())\n",
    "df['high1'] = pd.read_csv('submit_high1.csv')['class']\n",
    "df['high2'] = pd.read_csv('submit_high2.csv')['class']\n",
    "df['pred5'] = pd.Series(pred5)\n",
    "df[df.pred1 != df.pred2]"
   ]
  },
  {
   "cell_type": "code",
   "execution_count": 225,
   "id": "f592c6bd",
   "metadata": {},
   "outputs": [
    {
     "data": {
      "text/html": [
       "<div>\n",
       "<style scoped>\n",
       "    .dataframe tbody tr th:only-of-type {\n",
       "        vertical-align: middle;\n",
       "    }\n",
       "\n",
       "    .dataframe tbody tr th {\n",
       "        vertical-align: top;\n",
       "    }\n",
       "\n",
       "    .dataframe thead th {\n",
       "        text-align: right;\n",
       "    }\n",
       "</style>\n",
       "<table border=\"1\" class=\"dataframe\">\n",
       "  <thead>\n",
       "    <tr style=\"text-align: right;\">\n",
       "      <th></th>\n",
       "      <th>pred1</th>\n",
       "      <th>pred2</th>\n",
       "      <th>high1</th>\n",
       "      <th>high2</th>\n",
       "      <th>pred5</th>\n",
       "    </tr>\n",
       "  </thead>\n",
       "  <tbody>\n",
       "    <tr>\n",
       "      <th>3</th>\n",
       "      <td>B</td>\n",
       "      <td>B</td>\n",
       "      <td>C</td>\n",
       "      <td>C</td>\n",
       "      <td>1</td>\n",
       "    </tr>\n",
       "    <tr>\n",
       "      <th>5</th>\n",
       "      <td>B</td>\n",
       "      <td>B</td>\n",
       "      <td>C</td>\n",
       "      <td>C</td>\n",
       "      <td>1</td>\n",
       "    </tr>\n",
       "    <tr>\n",
       "      <th>7</th>\n",
       "      <td>C</td>\n",
       "      <td>B</td>\n",
       "      <td>B</td>\n",
       "      <td>B</td>\n",
       "      <td>2</td>\n",
       "    </tr>\n",
       "    <tr>\n",
       "      <th>12</th>\n",
       "      <td>C</td>\n",
       "      <td>C</td>\n",
       "      <td>B</td>\n",
       "      <td>C</td>\n",
       "      <td>2</td>\n",
       "    </tr>\n",
       "    <tr>\n",
       "      <th>17</th>\n",
       "      <td>C</td>\n",
       "      <td>B</td>\n",
       "      <td>B</td>\n",
       "      <td>B</td>\n",
       "      <td>2</td>\n",
       "    </tr>\n",
       "    <tr>\n",
       "      <th>19</th>\n",
       "      <td>B</td>\n",
       "      <td>B</td>\n",
       "      <td>C</td>\n",
       "      <td>C</td>\n",
       "      <td>1</td>\n",
       "    </tr>\n",
       "    <tr>\n",
       "      <th>35</th>\n",
       "      <td>C</td>\n",
       "      <td>C</td>\n",
       "      <td>B</td>\n",
       "      <td>B</td>\n",
       "      <td>2</td>\n",
       "    </tr>\n",
       "    <tr>\n",
       "      <th>58</th>\n",
       "      <td>C</td>\n",
       "      <td>B</td>\n",
       "      <td>B</td>\n",
       "      <td>B</td>\n",
       "      <td>1</td>\n",
       "    </tr>\n",
       "    <tr>\n",
       "      <th>60</th>\n",
       "      <td>C</td>\n",
       "      <td>A</td>\n",
       "      <td>A</td>\n",
       "      <td>A</td>\n",
       "      <td>2</td>\n",
       "    </tr>\n",
       "    <tr>\n",
       "      <th>66</th>\n",
       "      <td>A</td>\n",
       "      <td>A</td>\n",
       "      <td>B</td>\n",
       "      <td>B</td>\n",
       "      <td>0</td>\n",
       "    </tr>\n",
       "    <tr>\n",
       "      <th>126</th>\n",
       "      <td>A</td>\n",
       "      <td>C</td>\n",
       "      <td>B</td>\n",
       "      <td>C</td>\n",
       "      <td>2</td>\n",
       "    </tr>\n",
       "    <tr>\n",
       "      <th>127</th>\n",
       "      <td>C</td>\n",
       "      <td>B</td>\n",
       "      <td>B</td>\n",
       "      <td>B</td>\n",
       "      <td>1</td>\n",
       "    </tr>\n",
       "    <tr>\n",
       "      <th>140</th>\n",
       "      <td>C</td>\n",
       "      <td>C</td>\n",
       "      <td>A</td>\n",
       "      <td>A</td>\n",
       "      <td>2</td>\n",
       "    </tr>\n",
       "    <tr>\n",
       "      <th>145</th>\n",
       "      <td>C</td>\n",
       "      <td>B</td>\n",
       "      <td>B</td>\n",
       "      <td>B</td>\n",
       "      <td>1</td>\n",
       "    </tr>\n",
       "    <tr>\n",
       "      <th>151</th>\n",
       "      <td>C</td>\n",
       "      <td>C</td>\n",
       "      <td>B</td>\n",
       "      <td>B</td>\n",
       "      <td>2</td>\n",
       "    </tr>\n",
       "  </tbody>\n",
       "</table>\n",
       "</div>"
      ],
      "text/plain": [
       "    pred1 pred2 high1 high2  pred5\n",
       "3       B     B     C     C      1\n",
       "5       B     B     C     C      1\n",
       "7       C     B     B     B      2\n",
       "12      C     C     B     C      2\n",
       "17      C     B     B     B      2\n",
       "19      B     B     C     C      1\n",
       "35      C     C     B     B      2\n",
       "58      C     B     B     B      1\n",
       "60      C     A     A     A      2\n",
       "66      A     A     B     B      0\n",
       "126     A     C     B     C      2\n",
       "127     C     B     B     B      1\n",
       "140     C     C     A     A      2\n",
       "145     C     B     B     B      1\n",
       "151     C     C     B     B      2"
      ]
     },
     "execution_count": 225,
     "metadata": {},
     "output_type": "execute_result"
    }
   ],
   "source": [
    "df[df.pred1 != df.high1]"
   ]
  },
  {
   "cell_type": "code",
   "execution_count": 226,
   "id": "973c5d26",
   "metadata": {},
   "outputs": [
    {
     "data": {
      "text/plain": [
       "B    77\n",
       "A    51\n",
       "C    47\n",
       "Name: pred1, dtype: int64"
      ]
     },
     "execution_count": 226,
     "metadata": {},
     "output_type": "execute_result"
    }
   ],
   "source": [
    "df.pred1.value_counts()"
   ]
  },
  {
   "cell_type": "code",
   "execution_count": 227,
   "id": "f604fdee",
   "metadata": {},
   "outputs": [
    {
     "data": {
      "text/plain": [
       "B    87\n",
       "A    51\n",
       "C    37\n",
       "Name: pred2, dtype: int64"
      ]
     },
     "execution_count": 227,
     "metadata": {},
     "output_type": "execute_result"
    }
   ],
   "source": [
    "df.pred2.value_counts()"
   ]
  },
  {
   "cell_type": "code",
   "execution_count": 228,
   "id": "2100dc72",
   "metadata": {},
   "outputs": [
    {
     "data": {
      "text/plain": [
       "B    84\n",
       "A    51\n",
       "C    40\n",
       "Name: high1, dtype: int64"
      ]
     },
     "execution_count": 228,
     "metadata": {},
     "output_type": "execute_result"
    }
   ],
   "source": [
    "df.high1.value_counts()"
   ]
  },
  {
   "cell_type": "code",
   "execution_count": 229,
   "id": "2685bd59",
   "metadata": {},
   "outputs": [
    {
     "data": {
      "text/plain": [
       "B    82\n",
       "A    51\n",
       "C    42\n",
       "Name: high2, dtype: int64"
      ]
     },
     "execution_count": 229,
     "metadata": {},
     "output_type": "execute_result"
    }
   ],
   "source": [
    "df.high2.value_counts()"
   ]
  },
  {
   "cell_type": "code",
   "execution_count": 230,
   "id": "819e4068",
   "metadata": {},
   "outputs": [
    {
     "data": {
      "text/plain": [
       "B    76.145038\n",
       "C    52.767176\n",
       "A    46.087786\n",
       "Name: class, dtype: float64"
      ]
     },
     "execution_count": 230,
     "metadata": {},
     "output_type": "execute_result"
    }
   ],
   "source": [
    "df_train['class'].value_counts() / len(df_train) * len(df_test)"
   ]
  },
  {
   "cell_type": "code",
   "execution_count": 168,
   "id": "4bfb7bbf",
   "metadata": {},
   "outputs": [
    {
     "data": {
      "text/plain": [
       "(0.13636363636363635, 0.2571428571428571)"
      ]
     },
     "execution_count": 168,
     "metadata": {},
     "output_type": "execute_result"
    }
   ],
   "source": [
    "# A : 45, B : 78, C: 42\n",
    "b_len = 129\n",
    "answer = np.zeros(175)\n",
    "answer[45:45+b_len] = 1\n",
    "answer[45+b_len:] = 2\n",
    "\n",
    "submit = np.zeros(175)\n",
    "\n",
    "# submit = answer.copy()\n",
    "# submit[-1:]=0\n",
    "# submit[45:45+1]=0\n",
    "\n",
    "f1_score(answer, submit, average='macro'), f1_score(answer, submit, average='micro')"
   ]
  },
  {
   "cell_type": "code",
   "execution_count": 250,
   "id": "78bc7eee",
   "metadata": {},
   "outputs": [
    {
     "data": {
      "text/plain": [
       "0.9375"
      ]
     },
     "execution_count": 250,
     "metadata": {},
     "output_type": "execute_result"
    }
   ],
   "source": [
    "# A : 45, B : 78, C: 42\n",
    "b_len = 129\n",
    "answer = np.ones(175)\n",
    "answer[45:] = 0\n",
    "# answer[45+b_len:] = 2\n",
    "\n",
    "submit = np.ones(175)\n",
    "submit[51:] = 0\n",
    "\n",
    "f1_score(answer, submit)"
   ]
  },
  {
   "cell_type": "code",
   "execution_count": 233,
   "id": "265718fd",
   "metadata": {},
   "outputs": [
    {
     "data": {
      "text/plain": [
       "0.14207650273224046"
      ]
     },
     "execution_count": 233,
     "metadata": {},
     "output_type": "execute_result"
    }
   ],
   "source": [
    "f1_score(answer, submit, average='macro') / 3"
   ]
  },
  {
   "cell_type": "code",
   "execution_count": 188,
   "id": "9b9bd806",
   "metadata": {},
   "outputs": [
    {
     "data": {
      "text/plain": [
       "0.34615384615384615"
      ]
     },
     "execution_count": 188,
     "metadata": {},
     "output_type": "execute_result"
    }
   ],
   "source": [
    "45/130"
   ]
  }
 ],
 "metadata": {
  "kernelspec": {
   "display_name": "Python 3",
   "language": "python",
   "name": "python3"
  },
  "language_info": {
   "codemirror_mode": {
    "name": "ipython",
    "version": 3
   },
   "file_extension": ".py",
   "mimetype": "text/x-python",
   "name": "python",
   "nbconvert_exporter": "python",
   "pygments_lexer": "ipython3",
   "version": "3.8.10"
  },
  "vscode": {
   "interpreter": {
    "hash": "916dbcbb3f70747c44a77c7bcd40155683ae19c65e1c03b4aa3499c5328201f1"
   }
  }
 },
 "nbformat": 4,
 "nbformat_minor": 5
}
