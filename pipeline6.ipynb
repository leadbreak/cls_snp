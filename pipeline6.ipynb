{
 "cells": [
  {
   "cell_type": "code",
   "execution_count": 1,
   "id": "955b5246-fe99-4bf1-8be6-087f92605db5",
   "metadata": {},
   "outputs": [],
   "source": [
    "import warnings\n",
    "warnings.filterwarnings(action='ignore')\n",
    "\n",
    "import os\n",
    "import gc\n",
    "import math\n",
    "import random\n",
    "import pickle\n",
    "import pandas as pd\n",
    "import numpy as np\n",
    "import multiprocessing\n",
    "from tqdm.auto import tqdm\n",
    "\n",
    "from sklearn.metrics import f1_score\n",
    "from sklearn.model_selection import train_test_split, StratifiedKFold\n",
    "from sklearn.preprocessing import StandardScaler\n",
    "\n",
    "from transformers import get_cosine_schedule_with_warmup\n",
    "\n",
    "import torch\n",
    "import torch.nn as nn\n",
    "from torch.utils.data import Dataset, DataLoader, TensorDataset, sampler\n",
    "\n",
    "from imblearn.over_sampling import SMOTE"
   ]
  },
  {
   "cell_type": "code",
   "execution_count": 2,
   "id": "0d8d0b92-22ab-45fd-91a1-09c4f9a362ac",
   "metadata": {},
   "outputs": [
    {
     "data": {
      "text/plain": [
       "device(type='cuda', index=1)"
      ]
     },
     "execution_count": 2,
     "metadata": {},
     "output_type": "execute_result"
    }
   ],
   "source": [
    "device = torch.device('cuda:1') if torch.cuda.is_available() else torch.device('cpu')\n",
    "device"
   ]
  },
  {
   "cell_type": "code",
   "execution_count": 3,
   "id": "e890b06b-edd9-4ec6-bd7e-e0791cec6271",
   "metadata": {},
   "outputs": [],
   "source": [
    "train = pd.read_csv('./data/df_train00.csv')\n",
    "test = pd.read_csv('./data/df_test00.csv')              "
   ]
  },
  {
   "cell_type": "code",
   "execution_count": 4,
   "id": "d4a24174-5bf6-450c-8b16-3ce4066ec1f0",
   "metadata": {},
   "outputs": [],
   "source": [
    "import warnings\n",
    "warnings.filterwarnings(action='ignore')\n",
    "\n",
    "import os\n",
    "import gc\n",
    "import math\n",
    "import random\n",
    "import pickle\n",
    "import pandas as pd\n",
    "import numpy as np\n",
    "from tqdm.auto import tqdm\n",
    "\n",
    "from sklearn.metrics import f1_score\n",
    "from sklearn.model_selection import train_test_split, StratifiedKFold\n",
    "\n",
    "from xgboost import XGBClassifier, XGBRegressor\n",
    "from catboost import CatBoostClassifier, CatBoostRegressor\n",
    "from imblearn.over_sampling import SMOTE, SMOTENC"
   ]
  },
  {
   "cell_type": "code",
   "execution_count": 5,
   "id": "b67ca8ce-3efe-4b82-be4a-6100363623a3",
   "metadata": {},
   "outputs": [],
   "source": [
    "xgb_params = {\n",
    "    'booster': 'gbtree',\n",
    "    'grow_policy': 'lossguide',\n",
    "    'max_depth': 0,\n",
    "    'learning_rate': 0.4,\n",
    "    # 'n_estimators': 25,\n",
    "    'reg_lambda': 100,\n",
    "    'reg_alpha' : 10,\n",
    "    'subsample': 0.9,\n",
    "    'num_parallel_tree': 1,\n",
    "    # 'colsample_bytree' : 0.9,\n",
    "    'colsample_bynode' : 0.9\n",
    "    # 'rate_drop': 0.3\n",
    "}"
   ]
  },
  {
   "cell_type": "code",
   "execution_count": 6,
   "id": "81715b0c-cfe3-4968-9b77-70f3fb71a1dc",
   "metadata": {},
   "outputs": [],
   "source": [
    "random_seed = 6327\n",
    "strategy = {0:300, 1:300}"
   ]
  },
  {
   "cell_type": "code",
   "execution_count": 7,
   "id": "798ff272-f802-4134-84ea-a28fcb6a3991",
   "metadata": {},
   "outputs": [
    {
     "data": {
      "text/plain": [
       "1    114\n",
       "2     79\n",
       "0     69\n",
       "Name: class, dtype: int64"
      ]
     },
     "execution_count": 7,
     "metadata": {},
     "output_type": "execute_result"
    }
   ],
   "source": [
    "train['class'].value_counts()"
   ]
  },
  {
   "cell_type": "code",
   "execution_count": 8,
   "id": "32dd264c-36de-4647-a385-ab2863472d4f",
   "metadata": {},
   "outputs": [
    {
     "data": {
      "text/plain": [
       "0    114\n",
       "1     79\n",
       "Name: class, dtype: int64"
      ]
     },
     "execution_count": 8,
     "metadata": {},
     "output_type": "execute_result"
    }
   ],
   "source": [
    "ae = pd.read_csv(\"./data/ae_values.csv\")\n",
    "target_idx = train[train['class'] != 0].index.tolist()\n",
    "train2 = train.iloc[target_idx].copy().reset_index(drop=True)\n",
    "train2['class'] = train2['class'] -1\n",
    "\n",
    "train2 = pd.concat([train2, ae[:len(train2)]], axis=1)\n",
    "test2 = pd.concat([test, ae[len(train2):].reset_index(drop=True)], axis=1)\n",
    "train2['class'].value_counts()"
   ]
  },
  {
   "cell_type": "code",
   "execution_count": 9,
   "id": "c09fc719-fea9-4294-bad5-bac044cb6c52",
   "metadata": {},
   "outputs": [
    {
     "name": "stdout",
     "output_type": "stream",
     "text": [
      "<class 'pandas.core.frame.DataFrame'>\n",
      "RangeIndex: 600 entries, 0 to 599\n",
      "Data columns (total 40 columns):\n",
      " #   Column        Non-Null Count  Dtype   \n",
      "---  ------        --------------  -----   \n",
      " 0   trait         600 non-null    category\n",
      " 1   SNP_01        600 non-null    category\n",
      " 2   SNP_02        600 non-null    category\n",
      " 3   SNP_03        600 non-null    category\n",
      " 4   SNP_04        600 non-null    category\n",
      " 5   SNP_05        600 non-null    category\n",
      " 6   SNP_06        600 non-null    category\n",
      " 7   SNP_07        600 non-null    category\n",
      " 8   SNP_08        600 non-null    category\n",
      " 9   SNP_09        600 non-null    category\n",
      " 10  SNP_10        600 non-null    category\n",
      " 11  SNP_11        600 non-null    category\n",
      " 12  SNP_12        600 non-null    category\n",
      " 13  SNP_13        600 non-null    category\n",
      " 14  SNP_14        600 non-null    category\n",
      " 15  SNP_15        600 non-null    category\n",
      " 16  SNP_01_ratio  600 non-null    float64 \n",
      " 17  SNP_02_ratio  600 non-null    float64 \n",
      " 18  SNP_03_ratio  600 non-null    float64 \n",
      " 19  SNP_04_ratio  600 non-null    float64 \n",
      " 20  SNP_05_ratio  600 non-null    float64 \n",
      " 21  SNP_06_ratio  600 non-null    float64 \n",
      " 22  SNP_07_ratio  600 non-null    float64 \n",
      " 23  SNP_08_ratio  600 non-null    float64 \n",
      " 24  SNP_09_ratio  600 non-null    float64 \n",
      " 25  SNP_10_ratio  600 non-null    float64 \n",
      " 26  SNP_11_ratio  600 non-null    float64 \n",
      " 27  SNP_12_ratio  600 non-null    float64 \n",
      " 28  SNP_13_ratio  600 non-null    float64 \n",
      " 29  SNP_14_ratio  600 non-null    float64 \n",
      " 30  SNP_15_ratio  600 non-null    float64 \n",
      " 31  trait_ratio   600 non-null    float64 \n",
      " 32  encodings_0   600 non-null    float64 \n",
      " 33  encodings_1   600 non-null    float64 \n",
      " 34  encodings_2   600 non-null    float64 \n",
      " 35  encodings_3   600 non-null    float64 \n",
      " 36  encodings_4   600 non-null    float64 \n",
      " 37  encodings_5   600 non-null    float64 \n",
      " 38  encodings_6   600 non-null    float64 \n",
      " 39  errors        600 non-null    float64 \n",
      "dtypes: category(16), float64(24)\n",
      "memory usage: 124.0 KB\n"
     ]
    }
   ],
   "source": [
    "y = (train2['class'].values).astype(int)\n",
    "X = train2.drop(['id', 'class'], axis=1)\n",
    "X.iloc[:,:16] = X.iloc[:,:16].astype('category')\n",
    "X_test = test2.drop(['id', 'class'], axis=1)\n",
    "X_test.iloc[:,:16] = X_test.iloc[:,:16].astype('category')\n",
    "\n",
    "smote = SMOTENC(categorical_features=[x for x in range(16)], random_state=random_seed, sampling_strategy=strategy)\n",
    "X_train, y_train = smote.fit_resample(X, y)\n",
    "X_train.info()"
   ]
  },
  {
   "cell_type": "code",
   "execution_count": 39,
   "id": "bdd76783-f412-44a1-b6c7-92f0c2fe564f",
   "metadata": {},
   "outputs": [],
   "source": [
    "def lgbmc() :  \n",
    "    var_categ = X_train.columns.tolist()[:16]\n",
    "    model = CatBoostClassifier(\n",
    "        cat_features=var_categ,\n",
    "        iterations=100,\n",
    "        learning_rate=0.3,\n",
    "        task_type='GPU',\n",
    "        devices='0',\n",
    "        # random_state=random_seed\n",
    "        )\n",
    "  \n",
    "    model.fit(\n",
    "        X_train, y_train,\n",
    "        eval_set=(X_train, y_train),\n",
    "        verbose=10\n",
    "        );     \n",
    "\n",
    "    pred = model.predict(X)\n",
    "    score = f1_score(y, pred, average='macro')\n",
    "    print(score)\n",
    "    \n",
    "    return model"
   ]
  },
  {
   "cell_type": "code",
   "execution_count": 40,
   "id": "9e06491f-a207-4878-84c9-d22d83f0d5cc",
   "metadata": {},
   "outputs": [],
   "source": [
    "def lgbmr() :  \n",
    "    var_categ = X_train.columns.tolist()[:16]\n",
    "    model = CatBoostRegressor(\n",
    "        cat_features=var_categ,\n",
    "        iterations=100,\n",
    "        learning_rate=0.3,\n",
    "        task_type='GPU',\n",
    "        devices='5',\n",
    "        # random_state=random_seed\n",
    "        )\n",
    "  \n",
    "    model.fit(\n",
    "        X_train, y_train,\n",
    "        eval_set=(X_train, y_train),\n",
    "        verbose=10\n",
    "        );     \n",
    "\n",
    "    pred = model.predict(X)\n",
    "    score = f1_score(y, np.round(pred), average='macro')\n",
    "    print(score)\n",
    "    \n",
    "    return model"
   ]
  },
  {
   "cell_type": "code",
   "execution_count": 41,
   "id": "37185a0c-e315-49a2-9eae-55a138b915cd",
   "metadata": {},
   "outputs": [
    {
     "name": "stdout",
     "output_type": "stream",
     "text": [
      "0:\tlearn: 0.3342471\ttest: 0.3342471\tbest: 0.3342471 (0)\ttotal: 10.1ms\tremaining: 1000ms\n",
      "10:\tlearn: 0.0224078\ttest: 0.0224078\tbest: 0.0224078 (10)\ttotal: 104ms\tremaining: 843ms\n",
      "20:\tlearn: 0.0099625\ttest: 0.0101762\tbest: 0.0101762 (20)\ttotal: 198ms\tremaining: 744ms\n",
      "30:\tlearn: 0.0058263\ttest: 0.0060054\tbest: 0.0060054 (30)\ttotal: 291ms\tremaining: 649ms\n",
      "40:\tlearn: 0.0040324\ttest: 0.0042058\tbest: 0.0042058 (40)\ttotal: 384ms\tremaining: 552ms\n",
      "50:\tlearn: 0.0032999\ttest: 0.0034556\tbest: 0.0034556 (50)\ttotal: 476ms\tremaining: 458ms\n",
      "60:\tlearn: 0.0026529\ttest: 0.0027940\tbest: 0.0027940 (60)\ttotal: 568ms\tremaining: 363ms\n",
      "70:\tlearn: 0.0021009\ttest: 0.0022247\tbest: 0.0022247 (70)\ttotal: 659ms\tremaining: 269ms\n",
      "80:\tlearn: 0.0018088\ttest: 0.0019187\tbest: 0.0019187 (80)\ttotal: 750ms\tremaining: 176ms\n",
      "90:\tlearn: 0.0015369\ttest: 0.0016415\tbest: 0.0016415 (90)\ttotal: 840ms\tremaining: 83.1ms\n",
      "99:\tlearn: 0.0013475\ttest: 0.0014394\tbest: 0.0014394 (99)\ttotal: 921ms\tremaining: 0us\n",
      "bestTest = 0.001439448694\n",
      "bestIteration = 99\n",
      "1.0\n"
     ]
    },
    {
     "data": {
      "text/plain": [
       "<catboost.core.CatBoostClassifier at 0x7f0a8858ce50>"
      ]
     },
     "execution_count": 41,
     "metadata": {},
     "output_type": "execute_result"
    }
   ],
   "source": [
    "model1 = lgbmc()\n",
    "model1"
   ]
  },
  {
   "cell_type": "code",
   "execution_count": 42,
   "id": "efaec153-5b85-4a80-9a3b-01851ff6bd41",
   "metadata": {},
   "outputs": [
    {
     "name": "stdout",
     "output_type": "stream",
     "text": [
      "0:\tlearn: 0.3850517\ttest: 0.3850517\tbest: 0.3850517 (0)\ttotal: 5.69ms\tremaining: 564ms\n",
      "10:\tlearn: 0.0968951\ttest: 0.0968951\tbest: 0.0968951 (10)\ttotal: 54.1ms\tremaining: 438ms\n",
      "20:\tlearn: 0.0736448\ttest: 0.0740544\tbest: 0.0740544 (20)\ttotal: 103ms\tremaining: 386ms\n",
      "30:\tlearn: 0.0596070\ttest: 0.0604077\tbest: 0.0604077 (30)\ttotal: 150ms\tremaining: 335ms\n",
      "40:\tlearn: 0.0480319\ttest: 0.0490553\tbest: 0.0490553 (40)\ttotal: 199ms\tremaining: 286ms\n",
      "50:\tlearn: 0.0403749\ttest: 0.0430205\tbest: 0.0430205 (50)\ttotal: 248ms\tremaining: 238ms\n",
      "60:\tlearn: 0.0344469\ttest: 0.0381584\tbest: 0.0381584 (60)\ttotal: 296ms\tremaining: 189ms\n",
      "70:\tlearn: 0.0289789\ttest: 0.0330376\tbest: 0.0330376 (70)\ttotal: 344ms\tremaining: 140ms\n",
      "80:\tlearn: 0.0253158\ttest: 0.0295110\tbest: 0.0295110 (80)\ttotal: 393ms\tremaining: 92.1ms\n",
      "90:\tlearn: 0.0224728\ttest: 0.0273989\tbest: 0.0273989 (90)\ttotal: 441ms\tremaining: 43.7ms\n",
      "99:\tlearn: 0.0202137\ttest: 0.0253462\tbest: 0.0253462 (99)\ttotal: 486ms\tremaining: 0us\n",
      "bestTest = 0.02534617127\n",
      "bestIteration = 99\n",
      "1.0\n"
     ]
    },
    {
     "data": {
      "text/plain": [
       "<catboost.core.CatBoostRegressor at 0x7f0a8865c430>"
      ]
     },
     "execution_count": 42,
     "metadata": {},
     "output_type": "execute_result"
    }
   ],
   "source": [
    "model2 = lgbmr()\n",
    "model2"
   ]
  },
  {
   "cell_type": "code",
   "execution_count": 43,
   "id": "6bb61920-549a-4755-af49-e05e9d03c2ab",
   "metadata": {},
   "outputs": [
    {
     "data": {
      "text/plain": [
       "array([5.32214590e-01, 3.36959983e-04, 9.99342093e-01, 8.45514919e-01,\n",
       "       9.64563394e-02, 3.44750575e-01, 9.98668513e-01, 3.00119891e-03,\n",
       "       4.65769145e-01, 1.63417517e-01, 9.99910271e-01, 1.32873650e-03,\n",
       "       8.87084509e-01, 2.29268646e-01, 2.70190490e-03, 2.99137585e-04,\n",
       "       7.78808415e-01, 2.94446390e-03, 1.41293006e-04, 9.89472647e-01,\n",
       "       5.17173204e-04, 2.33785327e-05, 8.43256913e-03, 1.57699943e-01,\n",
       "       2.00956578e-04, 2.10520459e-02, 9.53294774e-04, 6.79600803e-01,\n",
       "       5.19303645e-02, 2.22772358e-03, 9.27065746e-02, 1.55250506e-01,\n",
       "       3.61282824e-04, 9.95898436e-01, 3.58986356e-01, 1.46136900e-02,\n",
       "       9.99557697e-01, 4.28693831e-04, 2.54382884e-03, 9.99808087e-01,\n",
       "       2.98968954e-01, 3.04087389e-04, 9.99810639e-01, 1.09894944e-03,\n",
       "       2.75057466e-04, 7.51006655e-03, 6.19928171e-02, 9.99245371e-01,\n",
       "       8.88969443e-05, 9.96754779e-01, 6.58763927e-01, 7.54872530e-04,\n",
       "       1.13600517e-01, 8.97833531e-05, 9.60526319e-05, 6.13454843e-04,\n",
       "       9.99813522e-01, 7.82434708e-01, 2.33468837e-03, 9.99183915e-01,\n",
       "       9.98178145e-01, 1.84581944e-05, 9.99723298e-01, 9.99884698e-01,\n",
       "       9.99791956e-01, 2.95980220e-01, 2.19906833e-02, 7.42858504e-01,\n",
       "       7.35243836e-01, 2.29266023e-05, 4.38649961e-04, 6.62859096e-05,\n",
       "       8.13934083e-01, 1.09479074e-01, 9.99582664e-01, 3.74666560e-03,\n",
       "       9.99421000e-01, 3.27251857e-04, 9.59894004e-03, 4.78378628e-05,\n",
       "       9.91022858e-01, 9.28556586e-05, 2.20888485e-01, 2.82314924e-04,\n",
       "       9.78875875e-05, 7.60979101e-04, 5.07494788e-05, 1.44051494e-05,\n",
       "       9.99672394e-01, 4.09527603e-01, 3.15016716e-04, 1.28269236e-01,\n",
       "       9.99034900e-01, 1.04243679e-04, 9.90255993e-05, 9.99653453e-01,\n",
       "       3.42442274e-01, 1.39246203e-02, 1.92452849e-01, 9.99963384e-01,\n",
       "       1.62200781e-01, 1.98652539e-04, 6.91249111e-04, 9.98214879e-01,\n",
       "       1.45208517e-01, 7.35729151e-01, 9.99454614e-01, 6.74524910e-04,\n",
       "       1.73887535e-01, 3.44530519e-04, 9.99152928e-01, 9.01733857e-03,\n",
       "       1.27920467e-04, 8.56499640e-05, 2.67854724e-04, 1.46029048e-01,\n",
       "       6.15869692e-01, 9.93866966e-01, 2.37549763e-05, 6.61404826e-01,\n",
       "       3.39773932e-01, 7.47540041e-05, 3.71923394e-01, 9.99462988e-01,\n",
       "       9.99506526e-01, 1.78193234e-04, 2.39923676e-01, 4.25037363e-03,\n",
       "       7.86602426e-01, 2.62708636e-04, 5.15112349e-01, 5.82746772e-01,\n",
       "       3.67714852e-03, 6.93241119e-04, 3.03487773e-03, 9.99776409e-01,\n",
       "       2.38461741e-01, 1.62510978e-01, 1.50542949e-03, 1.21914964e-01,\n",
       "       8.35600235e-01, 1.67851946e-01, 9.99248638e-01, 1.21855730e-04,\n",
       "       9.29219332e-04, 1.37136429e-02, 1.44258861e-01, 4.25850926e-04,\n",
       "       9.97560594e-01, 6.63342717e-01, 3.66088911e-01, 4.05295879e-01,\n",
       "       6.44657514e-02, 3.74361568e-04, 5.80163366e-05, 7.46499571e-01,\n",
       "       2.02297711e-01, 5.77927444e-05, 9.99432052e-01, 1.57554777e-01,\n",
       "       7.72177727e-06, 9.99959899e-01, 9.98129993e-01, 1.92715885e-05,\n",
       "       1.69155573e-01, 9.67965929e-02, 9.99909537e-01, 1.49719292e-02,\n",
       "       2.91058853e-01, 7.54963145e-01, 1.02804167e-03, 9.99947704e-01,\n",
       "       9.97931356e-01, 2.33769689e-05, 7.95905942e-03])"
      ]
     },
     "execution_count": 43,
     "metadata": {},
     "output_type": "execute_result"
    }
   ],
   "source": [
    "answer1 = model1.predict_proba(X_test)[:,1] \n",
    "answer1"
   ]
  },
  {
   "cell_type": "code",
   "execution_count": 44,
   "id": "c7aa5ec0-10b5-4199-b86e-cb214ba93846",
   "metadata": {},
   "outputs": [
    {
     "data": {
      "text/plain": [
       "array([ 0.71164287,  0.04906433,  1.04504479,  0.77110856,  0.17761294,\n",
       "        0.76863142,  1.03041334,  0.15961657,  0.34765884,  0.36167575,\n",
       "        0.98926041,  0.0842239 ,  0.62647615,  0.36407528,  0.06303468,\n",
       "        0.02005826,  0.67041652,  0.05547938, -0.02697338,  0.84186277,\n",
       "       -0.01701689, -0.05874553,  0.28098357,  0.34816336, -0.0303449 ,\n",
       "        0.16147037,  0.13206059,  0.46142912,  0.13269689,  0.21404571,\n",
       "        0.28484474,  0.41392559,  0.00825517,  1.01240031,  0.64415963,\n",
       "        0.25503852,  1.01380161, -0.01566375,  0.02485078,  1.01013843,\n",
       "        0.51378803,  0.00261512,  0.84745586,  0.04352867,  0.05280579,\n",
       "        0.02572753,  0.29258742,  0.99147607,  0.0089165 ,  0.96081131,\n",
       "        0.66172076,  0.01254039,  0.26117863, -0.05490835,  0.0271442 ,\n",
       "       -0.03601745,  0.96490559,  0.61973212,  0.06729711,  0.98409768,\n",
       "        0.92812734, -0.02165885,  0.94373734,  0.9941257 ,  1.07015717,\n",
       "        0.60738607,  0.23931593,  0.64997857,  0.66544803, -0.02227839,\n",
       "       -0.06835237,  0.00607618,  0.68321259,  0.33565508,  1.01208814,\n",
       "        0.14584444,  1.0344237 , -0.01280175,  0.24124838, -0.04835857,\n",
       "        0.69791443, -0.00415921,  0.36041406, -0.03082358, -0.0088204 ,\n",
       "       -0.0106307 ,  0.00830876, -0.02511204,  0.9667483 ,  0.31463655,\n",
       "        0.00233235,  0.58271083,  1.01445585, -0.04386958, -0.00846379,\n",
       "        1.00610391,  0.35766562,  0.33962665,  0.35898042,  0.96648738,\n",
       "        0.34944996, -0.02420867,  0.02624597,  0.67638048,  0.32196758,\n",
       "        0.68728004,  0.93207601,  0.16451842,  0.37249925,  0.07357437,\n",
       "        1.02404368,  0.06870183, -0.01263978, -0.02341391,  0.01992874,\n",
       "        0.37605094,  0.72090297,  0.68473476, -0.04263431,  0.47481017,\n",
       "        0.32366935,  0.02869134,  0.37209479,  0.86794633,  1.04886539,\n",
       "        0.04724212,  0.47118476,  0.12986657,  0.6891057 , -0.05529749,\n",
       "        0.42701696,  0.31377724,  0.14462779,  0.02801956,  0.01701929,\n",
       "        1.02570328,  0.34767261,  0.37207835,  0.14374096,  0.37121406,\n",
       "        0.64707014,  0.37571623,  1.02479767,  0.04535974,  0.05171212,\n",
       "        0.05522253,  0.37975418,  0.01414188,  0.7956597 ,  0.61707808,\n",
       "        0.28530923,  0.33825178,  0.32071722,  0.00136992, -0.03999508,\n",
       "        0.60104103,  0.30073406, -0.01945219,  0.99959379,  0.33061317,\n",
       "       -0.02021966,  1.00980556,  0.95619086,  0.00302161,  0.35713957,\n",
       "        0.11825765,  1.00256434,  0.17120023,  0.65552778,  0.66880379,\n",
       "        0.02113739,  0.99716747,  0.95122185,  0.02101989,  0.05679701])"
      ]
     },
     "execution_count": 44,
     "metadata": {},
     "output_type": "execute_result"
    }
   ],
   "source": [
    "answer2 = model2.predict(X_test)\n",
    "answer2"
   ]
  },
  {
   "cell_type": "code",
   "execution_count": 45,
   "id": "79624615-207a-440c-a658-57464a542894",
   "metadata": {},
   "outputs": [
    {
     "data": {
      "text/plain": [
       "array([ 1.24385746e+00,  4.94012910e-02,  2.04438688e+00,  1.61662348e+00,\n",
       "        2.74069275e-01,  1.11338200e+00,  2.02908186e+00,  1.62617767e-01,\n",
       "        8.13427985e-01,  5.25093267e-01,  1.98917068e+00,  8.55526338e-02,\n",
       "        1.51356066e+00,  5.93343928e-01,  6.57365879e-02,  2.03574008e-02,\n",
       "        1.44922494e+00,  5.84238464e-02, -2.68320911e-02,  1.83133541e+00,\n",
       "       -1.64997138e-02, -5.87221492e-02,  2.89416139e-01,  5.05863302e-01,\n",
       "       -3.01439434e-02,  1.82522418e-01,  1.33013889e-01,  1.14102992e+00,\n",
       "        1.84627259e-01,  2.16273437e-01,  3.77551315e-01,  5.69176091e-01,\n",
       "        8.61645060e-03,  2.00829874e+00,  1.00314599e+00,  2.69652208e-01,\n",
       "        2.01335930e+00, -1.52350602e-02,  2.73946072e-02,  2.00994652e+00,\n",
       "        8.12756980e-01,  2.91920382e-03,  1.84726650e+00,  4.46276204e-02,\n",
       "        5.30808475e-02,  3.32376015e-02,  3.54580241e-01,  1.99072144e+00,\n",
       "        9.00539640e-03,  1.95756609e+00,  1.32048468e+00,  1.32952625e-02,\n",
       "        3.74779145e-01, -5.48185693e-02,  2.72402566e-02, -3.54039944e-02,\n",
       "        1.96471911e+00,  1.40216683e+00,  6.96317935e-02,  1.98328159e+00,\n",
       "        1.92630549e+00, -2.16403886e-02,  1.94346063e+00,  1.99401039e+00,\n",
       "        2.06994912e+00,  9.03366294e-01,  2.61306618e-01,  1.39283707e+00,\n",
       "        1.40069186e+00, -2.22554613e-02, -6.79137244e-02,  6.14246250e-03,\n",
       "        1.49714667e+00,  4.45134152e-01,  2.01167080e+00,  1.49591101e-01,\n",
       "        2.03384470e+00, -1.24744964e-02,  2.50847320e-01, -4.83107363e-02,\n",
       "        1.68893729e+00, -4.06635620e-03,  5.81302547e-01, -3.05412665e-02,\n",
       "       -8.72251336e-03, -9.86972268e-03,  8.35950623e-03, -2.50976315e-02,\n",
       "        1.96642069e+00,  7.24164148e-01,  2.64736367e-03,  7.10980064e-01,\n",
       "        2.01349075e+00, -4.37653357e-02, -8.36476426e-03,  2.00575736e+00,\n",
       "        7.00107897e-01,  3.53551268e-01,  5.51433273e-01,  1.96645077e+00,\n",
       "        5.11650739e-01, -2.40100154e-02,  2.69372226e-02,  1.67459536e+00,\n",
       "        4.67176101e-01,  1.42300919e+00,  1.93153063e+00,  1.65192941e-01,\n",
       "        5.46386783e-01,  7.39188985e-02,  2.02319661e+00,  7.77191696e-02,\n",
       "       -1.25118547e-02, -2.33282587e-02,  2.01965899e-02,  5.22079986e-01,\n",
       "        1.33677267e+00,  1.67860173e+00, -4.26105596e-02,  1.13621500e+00,\n",
       "        6.63443280e-01,  2.87660936e-02,  7.44018186e-01,  1.86740932e+00,\n",
       "        2.04837192e+00,  4.74203140e-02,  7.11108436e-01,  1.34116939e-01,\n",
       "        1.47570813e+00, -5.50347805e-02,  9.42129312e-01,  8.96524013e-01,\n",
       "        1.48304937e-01,  2.87128061e-02,  2.00541721e-02,  2.02547969e+00,\n",
       "        5.86134356e-01,  5.34589324e-01,  1.45246392e-01,  4.93129023e-01,\n",
       "        1.48267038e+00,  5.43568171e-01,  2.02404630e+00,  4.54816003e-02,\n",
       "        5.26413423e-02,  6.89361777e-02,  5.24013037e-01,  1.45677282e-02,\n",
       "        1.79322029e+00,  1.28042080e+00,  6.51398140e-01,  7.43547661e-01,\n",
       "        3.85182968e-01,  1.74428198e-03, -3.99370635e-02,  1.34754060e+00,\n",
       "        5.03031775e-01, -1.93943970e-02,  1.99902584e+00,  4.88167945e-01,\n",
       "       -2.02119393e-02,  2.00976546e+00,  1.95432085e+00,  3.04087675e-03,\n",
       "        5.26295148e-01,  2.15054247e-01,  2.00247388e+00,  1.86172154e-01,\n",
       "        9.46586630e-01,  1.42376694e+00,  2.21654359e-02,  1.99711518e+00,\n",
       "        1.94915321e+00,  2.10432714e-02,  6.47560655e-02])"
      ]
     },
     "execution_count": 45,
     "metadata": {},
     "output_type": "execute_result"
    }
   ],
   "source": [
    "answer3 = answer1+answer2\n",
    "answer3"
   ]
  },
  {
   "cell_type": "code",
   "execution_count": 46,
   "id": "d6f2c3c0-1466-4024-aa55-218b2928281c",
   "metadata": {},
   "outputs": [
    {
     "data": {
      "text/html": [
       "<div>\n",
       "<style scoped>\n",
       "    .dataframe tbody tr th:only-of-type {\n",
       "        vertical-align: middle;\n",
       "    }\n",
       "\n",
       "    .dataframe tbody tr th {\n",
       "        vertical-align: top;\n",
       "    }\n",
       "\n",
       "    .dataframe thead th {\n",
       "        text-align: right;\n",
       "    }\n",
       "</style>\n",
       "<table border=\"1\" class=\"dataframe\">\n",
       "  <thead>\n",
       "    <tr style=\"text-align: right;\">\n",
       "      <th></th>\n",
       "      <th>id</th>\n",
       "      <th>class</th>\n",
       "    </tr>\n",
       "  </thead>\n",
       "  <tbody>\n",
       "    <tr>\n",
       "      <th>0</th>\n",
       "      <td>TEST_000</td>\n",
       "      <td>A</td>\n",
       "    </tr>\n",
       "    <tr>\n",
       "      <th>1</th>\n",
       "      <td>TEST_001</td>\n",
       "      <td>B</td>\n",
       "    </tr>\n",
       "    <tr>\n",
       "      <th>2</th>\n",
       "      <td>TEST_002</td>\n",
       "      <td>C</td>\n",
       "    </tr>\n",
       "    <tr>\n",
       "      <th>3</th>\n",
       "      <td>TEST_003</td>\n",
       "      <td>C</td>\n",
       "    </tr>\n",
       "    <tr>\n",
       "      <th>4</th>\n",
       "      <td>TEST_004</td>\n",
       "      <td>A</td>\n",
       "    </tr>\n",
       "    <tr>\n",
       "      <th>...</th>\n",
       "      <td>...</td>\n",
       "      <td>...</td>\n",
       "    </tr>\n",
       "    <tr>\n",
       "      <th>170</th>\n",
       "      <td>TEST_170</td>\n",
       "      <td>B</td>\n",
       "    </tr>\n",
       "    <tr>\n",
       "      <th>171</th>\n",
       "      <td>TEST_171</td>\n",
       "      <td>C</td>\n",
       "    </tr>\n",
       "    <tr>\n",
       "      <th>172</th>\n",
       "      <td>TEST_172</td>\n",
       "      <td>C</td>\n",
       "    </tr>\n",
       "    <tr>\n",
       "      <th>173</th>\n",
       "      <td>TEST_173</td>\n",
       "      <td>B</td>\n",
       "    </tr>\n",
       "    <tr>\n",
       "      <th>174</th>\n",
       "      <td>TEST_174</td>\n",
       "      <td>B</td>\n",
       "    </tr>\n",
       "  </tbody>\n",
       "</table>\n",
       "<p>175 rows × 2 columns</p>\n",
       "</div>"
      ],
      "text/plain": [
       "           id class\n",
       "0    TEST_000     A\n",
       "1    TEST_001     B\n",
       "2    TEST_002     C\n",
       "3    TEST_003     C\n",
       "4    TEST_004     A\n",
       "..        ...   ...\n",
       "170  TEST_170     B\n",
       "171  TEST_171     C\n",
       "172  TEST_172     C\n",
       "173  TEST_173     B\n",
       "174  TEST_174     B\n",
       "\n",
       "[175 rows x 2 columns]"
      ]
     },
     "execution_count": 46,
     "metadata": {},
     "output_type": "execute_result"
    }
   ],
   "source": [
    "high_one = pd.read_csv(\"./data/submit_0.99078.csv\")\n",
    "high_one"
   ]
  },
  {
   "cell_type": "code",
   "execution_count": 47,
   "id": "c720989d-909c-4700-84f5-44e5ae8382fa",
   "metadata": {},
   "outputs": [
    {
     "data": {
      "text/plain": [
       "array([ 0.00000000e+00,  4.94012910e-02,  2.04438688e+00,  1.61662348e+00,\n",
       "        0.00000000e+00,  1.11338200e+00,  2.02908186e+00,  1.62617767e-01,\n",
       "        0.00000000e+00,  0.00000000e+00,  1.98917068e+00,  8.55526338e-02,\n",
       "        1.51356066e+00,  0.00000000e+00,  6.57365879e-02,  2.03574008e-02,\n",
       "        0.00000000e+00,  5.84238464e-02, -2.68320911e-02,  1.83133541e+00,\n",
       "       -1.64997138e-02, -5.87221492e-02,  2.89416139e-01,  0.00000000e+00,\n",
       "       -3.01439434e-02,  1.82522418e-01,  1.33013889e-01,  0.00000000e+00,\n",
       "        0.00000000e+00,  2.16273437e-01,  0.00000000e+00,  0.00000000e+00,\n",
       "        8.61645060e-03,  2.00829874e+00,  0.00000000e+00,  2.69652208e-01,\n",
       "        2.01335930e+00, -1.52350602e-02,  2.73946072e-02,  2.00994652e+00,\n",
       "        0.00000000e+00,  2.91920382e-03,  1.84726650e+00,  4.46276204e-02,\n",
       "        5.30808475e-02,  3.32376015e-02,  3.54580241e-01,  1.99072144e+00,\n",
       "        9.00539640e-03,  1.95756609e+00,  0.00000000e+00,  1.32952625e-02,\n",
       "        0.00000000e+00, -5.48185693e-02,  2.72402566e-02, -3.54039944e-02,\n",
       "        1.96471911e+00,  0.00000000e+00,  6.96317935e-02,  1.98328159e+00,\n",
       "        0.00000000e+00, -2.16403886e-02,  1.94346063e+00,  1.99401039e+00,\n",
       "        2.06994912e+00,  0.00000000e+00,  2.61306618e-01,  0.00000000e+00,\n",
       "        0.00000000e+00, -2.22554613e-02, -6.79137244e-02,  6.14246250e-03,\n",
       "        0.00000000e+00,  0.00000000e+00,  2.01167080e+00,  1.49591101e-01,\n",
       "        2.03384470e+00, -1.24744964e-02,  2.50847320e-01, -4.83107363e-02,\n",
       "        1.68893729e+00, -4.06635620e-03,  0.00000000e+00, -3.05412665e-02,\n",
       "       -8.72251336e-03, -9.86972268e-03,  8.35950623e-03, -2.50976315e-02,\n",
       "        1.96642069e+00,  0.00000000e+00,  2.64736367e-03,  7.10980064e-01,\n",
       "        2.01349075e+00, -4.37653357e-02, -8.36476426e-03,  2.00575736e+00,\n",
       "        0.00000000e+00,  3.53551268e-01,  0.00000000e+00,  1.96645077e+00,\n",
       "        0.00000000e+00, -2.40100154e-02,  2.69372226e-02,  1.67459536e+00,\n",
       "        0.00000000e+00,  0.00000000e+00,  1.93153063e+00,  1.65192941e-01,\n",
       "        0.00000000e+00,  7.39188985e-02,  2.02319661e+00,  7.77191696e-02,\n",
       "       -1.25118547e-02, -2.33282587e-02,  2.01965899e-02,  0.00000000e+00,\n",
       "        0.00000000e+00,  1.67860173e+00, -4.26105596e-02,  1.13621500e+00,\n",
       "        0.00000000e+00,  2.87660936e-02,  7.44018186e-01,  1.86740932e+00,\n",
       "        2.04837192e+00,  4.74203140e-02,  7.11108436e-01,  1.34116939e-01,\n",
       "        0.00000000e+00, -5.50347805e-02,  0.00000000e+00,  0.00000000e+00,\n",
       "        1.48304937e-01,  2.87128061e-02,  2.00541721e-02,  2.02547969e+00,\n",
       "        0.00000000e+00,  0.00000000e+00,  1.45246392e-01,  0.00000000e+00,\n",
       "        0.00000000e+00,  0.00000000e+00,  2.02404630e+00,  4.54816003e-02,\n",
       "        5.26413423e-02,  6.89361777e-02,  0.00000000e+00,  1.45677282e-02,\n",
       "        1.79322029e+00,  0.00000000e+00,  0.00000000e+00,  7.43547661e-01,\n",
       "        0.00000000e+00,  1.74428198e-03, -3.99370635e-02,  0.00000000e+00,\n",
       "        0.00000000e+00, -1.93943970e-02,  1.99902584e+00,  0.00000000e+00,\n",
       "       -2.02119393e-02,  2.00976546e+00,  1.95432085e+00,  3.04087675e-03,\n",
       "        0.00000000e+00,  0.00000000e+00,  2.00247388e+00,  1.86172154e-01,\n",
       "        9.46586630e-01,  0.00000000e+00,  2.21654359e-02,  1.99711518e+00,\n",
       "        1.94915321e+00,  2.10432714e-02,  6.47560655e-02])"
      ]
     },
     "execution_count": 47,
     "metadata": {},
     "output_type": "execute_result"
    }
   ],
   "source": [
    "A_index = high_one[high_one['class']=='A'].index.tolist()\n",
    "answer3[A_index] = 0\n",
    "answer3"
   ]
  },
  {
   "cell_type": "code",
   "execution_count": 64,
   "id": "88712df3-7060-4c05-b2a6-a93d8422f9f6",
   "metadata": {},
   "outputs": [
    {
     "data": {
      "text/plain": [
       "42"
      ]
     },
     "execution_count": 64,
     "metadata": {},
     "output_type": "execute_result"
    }
   ],
   "source": [
    "sum(answer3 >= 0.9)"
   ]
  },
  {
   "cell_type": "code",
   "execution_count": 68,
   "id": "3d876832-0454-4da7-864e-892682ffa12d",
   "metadata": {},
   "outputs": [
    {
     "data": {
      "text/html": [
       "<div>\n",
       "<style scoped>\n",
       "    .dataframe tbody tr th:only-of-type {\n",
       "        vertical-align: middle;\n",
       "    }\n",
       "\n",
       "    .dataframe tbody tr th {\n",
       "        vertical-align: top;\n",
       "    }\n",
       "\n",
       "    .dataframe thead th {\n",
       "        text-align: right;\n",
       "    }\n",
       "</style>\n",
       "<table border=\"1\" class=\"dataframe\">\n",
       "  <thead>\n",
       "    <tr style=\"text-align: right;\">\n",
       "      <th></th>\n",
       "      <th>id</th>\n",
       "      <th>class</th>\n",
       "    </tr>\n",
       "  </thead>\n",
       "  <tbody>\n",
       "    <tr>\n",
       "      <th>0</th>\n",
       "      <td>TEST_000</td>\n",
       "      <td>A</td>\n",
       "    </tr>\n",
       "    <tr>\n",
       "      <th>1</th>\n",
       "      <td>TEST_001</td>\n",
       "      <td>B</td>\n",
       "    </tr>\n",
       "    <tr>\n",
       "      <th>2</th>\n",
       "      <td>TEST_002</td>\n",
       "      <td>C</td>\n",
       "    </tr>\n",
       "    <tr>\n",
       "      <th>3</th>\n",
       "      <td>TEST_003</td>\n",
       "      <td>C</td>\n",
       "    </tr>\n",
       "    <tr>\n",
       "      <th>4</th>\n",
       "      <td>TEST_004</td>\n",
       "      <td>A</td>\n",
       "    </tr>\n",
       "    <tr>\n",
       "      <th>...</th>\n",
       "      <td>...</td>\n",
       "      <td>...</td>\n",
       "    </tr>\n",
       "    <tr>\n",
       "      <th>170</th>\n",
       "      <td>TEST_170</td>\n",
       "      <td>B</td>\n",
       "    </tr>\n",
       "    <tr>\n",
       "      <th>171</th>\n",
       "      <td>TEST_171</td>\n",
       "      <td>C</td>\n",
       "    </tr>\n",
       "    <tr>\n",
       "      <th>172</th>\n",
       "      <td>TEST_172</td>\n",
       "      <td>C</td>\n",
       "    </tr>\n",
       "    <tr>\n",
       "      <th>173</th>\n",
       "      <td>TEST_173</td>\n",
       "      <td>B</td>\n",
       "    </tr>\n",
       "    <tr>\n",
       "      <th>174</th>\n",
       "      <td>TEST_174</td>\n",
       "      <td>B</td>\n",
       "    </tr>\n",
       "  </tbody>\n",
       "</table>\n",
       "<p>175 rows × 2 columns</p>\n",
       "</div>"
      ],
      "text/plain": [
       "           id class\n",
       "0    TEST_000     A\n",
       "1    TEST_001     B\n",
       "2    TEST_002     C\n",
       "3    TEST_003     C\n",
       "4    TEST_004     A\n",
       "..        ...   ...\n",
       "170  TEST_170     B\n",
       "171  TEST_171     C\n",
       "172  TEST_172     C\n",
       "173  TEST_173     B\n",
       "174  TEST_174     B\n",
       "\n",
       "[175 rows x 2 columns]"
      ]
     },
     "execution_count": 68,
     "metadata": {},
     "output_type": "execute_result"
    }
   ],
   "source": [
    "submit = high_one.copy()\n",
    "submit['class'] = answer3\n",
    "submit['class'] = submit['class'].map(lambda x : 0 if x==0 else (1 if x < 0.9 else 2))\n",
    "submit['class'] = submit['class'].map(lambda x : 'A' if x==0 else ('B' if x==1 else 'C'))\n",
    "submit"
   ]
  },
  {
   "cell_type": "code",
   "execution_count": 69,
   "id": "36702ce0-66c1-4059-a09e-e1d6607183d4",
   "metadata": {},
   "outputs": [
    {
     "data": {
      "text/plain": [
       "173"
      ]
     },
     "execution_count": 69,
     "metadata": {},
     "output_type": "execute_result"
    }
   ],
   "source": [
    "sum(high_one['class'] == submit['class'])"
   ]
  },
  {
   "cell_type": "code",
   "execution_count": 70,
   "id": "7e97e5b9-35c6-40c7-bc14-c16fce2d7162",
   "metadata": {},
   "outputs": [
    {
     "data": {
      "text/plain": [
       "B    82\n",
       "A    51\n",
       "C    42\n",
       "Name: class, dtype: int64"
      ]
     },
     "execution_count": 70,
     "metadata": {},
     "output_type": "execute_result"
    }
   ],
   "source": [
    "submit['class'].value_counts()"
   ]
  },
  {
   "cell_type": "code",
   "execution_count": 57,
   "id": "7d5708e0-50a8-4a0f-955f-138d797ad132",
   "metadata": {},
   "outputs": [
    {
     "data": {
      "text/plain": [
       "B    84\n",
       "A    51\n",
       "C    40\n",
       "Name: class, dtype: int64"
      ]
     },
     "execution_count": 57,
     "metadata": {},
     "output_type": "execute_result"
    }
   ],
   "source": [
    "high_one['class'].value_counts()"
   ]
  },
  {
   "cell_type": "code",
   "execution_count": 71,
   "id": "086dba16-f261-4c2c-8fdc-17fc5bb253f7",
   "metadata": {},
   "outputs": [],
   "source": [
    "submit.to_csv(\"submit.csv\", index=False)"
   ]
  },
  {
   "cell_type": "code",
   "execution_count": null,
   "id": "7157c5b5-adff-4f21-ab6a-c75c86d7b97e",
   "metadata": {},
   "outputs": [],
   "source": []
  },
  {
   "cell_type": "code",
   "execution_count": null,
   "id": "cd71e1a2-22aa-4dd4-a745-10e01f7211c5",
   "metadata": {},
   "outputs": [],
   "source": []
  },
  {
   "cell_type": "code",
   "execution_count": null,
   "id": "360ecede-a039-415b-a671-a07f6b7e7b5f",
   "metadata": {},
   "outputs": [],
   "source": []
  },
  {
   "cell_type": "code",
   "execution_count": null,
   "id": "0b2abae2-32c7-473f-a614-9319a54a1df0",
   "metadata": {},
   "outputs": [],
   "source": []
  },
  {
   "cell_type": "code",
   "execution_count": 61,
   "id": "a526dea0-aec0-46b9-8945-7342ede7a68c",
   "metadata": {},
   "outputs": [],
   "source": [
    "high1 = pd.read_csv(\"./data/submit_0.99078.csv\")\n",
    "high2 = pd.read_csv(\"./data/submit_0.99078_2.csv\")\n",
    "high3 = pd.read_csv(\"./data/submit_0.99078_3.csv\")"
   ]
  },
  {
   "cell_type": "code",
   "execution_count": 62,
   "id": "41ba64fb-53ff-4834-8b18-9380dd52366c",
   "metadata": {},
   "outputs": [
    {
     "data": {
      "text/html": [
       "<div>\n",
       "<style scoped>\n",
       "    .dataframe tbody tr th:only-of-type {\n",
       "        vertical-align: middle;\n",
       "    }\n",
       "\n",
       "    .dataframe tbody tr th {\n",
       "        vertical-align: top;\n",
       "    }\n",
       "\n",
       "    .dataframe thead th {\n",
       "        text-align: right;\n",
       "    }\n",
       "</style>\n",
       "<table border=\"1\" class=\"dataframe\">\n",
       "  <thead>\n",
       "    <tr style=\"text-align: right;\">\n",
       "      <th></th>\n",
       "      <th>id</th>\n",
       "      <th>class</th>\n",
       "    </tr>\n",
       "  </thead>\n",
       "  <tbody>\n",
       "    <tr>\n",
       "      <th>12</th>\n",
       "      <td>TEST_012</td>\n",
       "      <td>C</td>\n",
       "    </tr>\n",
       "  </tbody>\n",
       "</table>\n",
       "</div>"
      ],
      "text/plain": [
       "          id class\n",
       "12  TEST_012     C"
      ]
     },
     "metadata": {},
     "output_type": "display_data"
    },
    {
     "data": {
      "text/html": [
       "<div>\n",
       "<style scoped>\n",
       "    .dataframe tbody tr th:only-of-type {\n",
       "        vertical-align: middle;\n",
       "    }\n",
       "\n",
       "    .dataframe tbody tr th {\n",
       "        vertical-align: top;\n",
       "    }\n",
       "\n",
       "    .dataframe thead th {\n",
       "        text-align: right;\n",
       "    }\n",
       "</style>\n",
       "<table border=\"1\" class=\"dataframe\">\n",
       "  <thead>\n",
       "    <tr style=\"text-align: right;\">\n",
       "      <th></th>\n",
       "      <th>id</th>\n",
       "      <th>class</th>\n",
       "    </tr>\n",
       "  </thead>\n",
       "  <tbody>\n",
       "    <tr>\n",
       "      <th>12</th>\n",
       "      <td>TEST_012</td>\n",
       "      <td>B</td>\n",
       "    </tr>\n",
       "  </tbody>\n",
       "</table>\n",
       "</div>"
      ],
      "text/plain": [
       "          id class\n",
       "12  TEST_012     B"
      ]
     },
     "metadata": {},
     "output_type": "display_data"
    }
   ],
   "source": [
    "display(high3[high3['class'] != high1['class']], high1[high3['class'] != high1['class']])"
   ]
  },
  {
   "cell_type": "code",
   "execution_count": 63,
   "id": "808af1d8-3e88-49b4-9edb-c305940d79cc",
   "metadata": {},
   "outputs": [
    {
     "data": {
      "text/html": [
       "<div>\n",
       "<style scoped>\n",
       "    .dataframe tbody tr th:only-of-type {\n",
       "        vertical-align: middle;\n",
       "    }\n",
       "\n",
       "    .dataframe tbody tr th {\n",
       "        vertical-align: top;\n",
       "    }\n",
       "\n",
       "    .dataframe thead th {\n",
       "        text-align: right;\n",
       "    }\n",
       "</style>\n",
       "<table border=\"1\" class=\"dataframe\">\n",
       "  <thead>\n",
       "    <tr style=\"text-align: right;\">\n",
       "      <th></th>\n",
       "      <th>id</th>\n",
       "      <th>class</th>\n",
       "    </tr>\n",
       "  </thead>\n",
       "  <tbody>\n",
       "    <tr>\n",
       "      <th>126</th>\n",
       "      <td>TEST_126</td>\n",
       "      <td>B</td>\n",
       "    </tr>\n",
       "  </tbody>\n",
       "</table>\n",
       "</div>"
      ],
      "text/plain": [
       "           id class\n",
       "126  TEST_126     B"
      ]
     },
     "metadata": {},
     "output_type": "display_data"
    },
    {
     "data": {
      "text/html": [
       "<div>\n",
       "<style scoped>\n",
       "    .dataframe tbody tr th:only-of-type {\n",
       "        vertical-align: middle;\n",
       "    }\n",
       "\n",
       "    .dataframe tbody tr th {\n",
       "        vertical-align: top;\n",
       "    }\n",
       "\n",
       "    .dataframe thead th {\n",
       "        text-align: right;\n",
       "    }\n",
       "</style>\n",
       "<table border=\"1\" class=\"dataframe\">\n",
       "  <thead>\n",
       "    <tr style=\"text-align: right;\">\n",
       "      <th></th>\n",
       "      <th>id</th>\n",
       "      <th>class</th>\n",
       "    </tr>\n",
       "  </thead>\n",
       "  <tbody>\n",
       "    <tr>\n",
       "      <th>126</th>\n",
       "      <td>TEST_126</td>\n",
       "      <td>C</td>\n",
       "    </tr>\n",
       "  </tbody>\n",
       "</table>\n",
       "</div>"
      ],
      "text/plain": [
       "           id class\n",
       "126  TEST_126     C"
      ]
     },
     "metadata": {},
     "output_type": "display_data"
    }
   ],
   "source": [
    "display(high3[high3['class'] != high2['class']], high2[high3['class'] != high2['class']])"
   ]
  }
 ],
 "metadata": {
  "kernelspec": {
   "display_name": "Python 3 (ipykernel)",
   "language": "python",
   "name": "python3"
  },
  "language_info": {
   "codemirror_mode": {
    "name": "ipython",
    "version": 3
   },
   "file_extension": ".py",
   "mimetype": "text/x-python",
   "name": "python",
   "nbconvert_exporter": "python",
   "pygments_lexer": "ipython3",
   "version": "3.8.10"
  }
 },
 "nbformat": 4,
 "nbformat_minor": 5
}
